{
 "cells": [
  {
   "cell_type": "markdown",
   "id": "bd1b4a84",
   "metadata": {},
   "source": [
    "# Document Similarity (English)\n",
    "\n",
    "In this notebook, you will use the DocumentSimilarity tool to identify similar documents in the English language and decide whether to keep or remove them from the corpus.  \n",
    "\n",
    "**Note:** this tool uses [MinHash](https://ekzhu.com/datasketch/minhash.html) to estimate the Jaccard similarity between sets of documents. MinHash is introduced by Andrei Z. Broder in this [paper](https://cs.brown.edu/courses/cs253/papers/nearduplicate.pdf).\n",
    "\n",
    "<div class=\"alert alert-block alert-warning\">\n",
    "<b>User guide to using a Jupyter Notebook</b> \n",
    "\n",
    "If you are new to Jupyter Notebook, feel free to take a quick look at [this user guide](https://github.com/Australian-Text-Analytics-Platform/semantic-tagger/blob/main/documents/jupyter-notebook-guide.pdf) for basic information on how to use a notebook.\n",
    "</div>"
   ]
  },
  {
   "cell_type": "markdown",
   "id": "fd1e7222",
   "metadata": {},
   "source": [
    "## 1. Setup\n",
    "Before you begin, you need to import the DocumentSimilarity package and the necessary libraries and initiate them to run in this notebook."
   ]
  },
  {
   "cell_type": "code",
   "execution_count": 1,
   "id": "2eaeb9c5",
   "metadata": {},
   "outputs": [
    {
     "name": "stdout",
     "output_type": "stream",
     "text": [
      "Loading DocumentSimilarity...\n"
     ]
    },
    {
     "data": {
      "text/html": [
       "<div class=\"bk-root\">\n",
       "        <a href=\"https://bokeh.org\" target=\"_blank\" class=\"bk-logo bk-logo-small bk-logo-notebook\"></a>\n",
       "        <span id=\"1002\">Loading BokehJS ...</span>\n",
       "    </div>\n"
      ]
     },
     "metadata": {},
     "output_type": "display_data"
    },
    {
     "data": {
      "application/javascript": [
       "(function(root) {\n",
       "  function now() {\n",
       "    return new Date();\n",
       "  }\n",
       "\n",
       "  const force = true;\n",
       "\n",
       "  if (typeof root._bokeh_onload_callbacks === \"undefined\" || force === true) {\n",
       "    root._bokeh_onload_callbacks = [];\n",
       "    root._bokeh_is_loading = undefined;\n",
       "  }\n",
       "\n",
       "const JS_MIME_TYPE = 'application/javascript';\n",
       "  const HTML_MIME_TYPE = 'text/html';\n",
       "  const EXEC_MIME_TYPE = 'application/vnd.bokehjs_exec.v0+json';\n",
       "  const CLASS_NAME = 'output_bokeh rendered_html';\n",
       "\n",
       "  /**\n",
       "   * Render data to the DOM node\n",
       "   */\n",
       "  function render(props, node) {\n",
       "    const script = document.createElement(\"script\");\n",
       "    node.appendChild(script);\n",
       "  }\n",
       "\n",
       "  /**\n",
       "   * Handle when an output is cleared or removed\n",
       "   */\n",
       "  function handleClearOutput(event, handle) {\n",
       "    const cell = handle.cell;\n",
       "\n",
       "    const id = cell.output_area._bokeh_element_id;\n",
       "    const server_id = cell.output_area._bokeh_server_id;\n",
       "    // Clean up Bokeh references\n",
       "    if (id != null && id in Bokeh.index) {\n",
       "      Bokeh.index[id].model.document.clear();\n",
       "      delete Bokeh.index[id];\n",
       "    }\n",
       "\n",
       "    if (server_id !== undefined) {\n",
       "      // Clean up Bokeh references\n",
       "      const cmd_clean = \"from bokeh.io.state import curstate; print(curstate().uuid_to_server['\" + server_id + \"'].get_sessions()[0].document.roots[0]._id)\";\n",
       "      cell.notebook.kernel.execute(cmd_clean, {\n",
       "        iopub: {\n",
       "          output: function(msg) {\n",
       "            const id = msg.content.text.trim();\n",
       "            if (id in Bokeh.index) {\n",
       "              Bokeh.index[id].model.document.clear();\n",
       "              delete Bokeh.index[id];\n",
       "            }\n",
       "          }\n",
       "        }\n",
       "      });\n",
       "      // Destroy server and session\n",
       "      const cmd_destroy = \"import bokeh.io.notebook as ion; ion.destroy_server('\" + server_id + \"')\";\n",
       "      cell.notebook.kernel.execute(cmd_destroy);\n",
       "    }\n",
       "  }\n",
       "\n",
       "  /**\n",
       "   * Handle when a new output is added\n",
       "   */\n",
       "  function handleAddOutput(event, handle) {\n",
       "    const output_area = handle.output_area;\n",
       "    const output = handle.output;\n",
       "\n",
       "    // limit handleAddOutput to display_data with EXEC_MIME_TYPE content only\n",
       "    if ((output.output_type != \"display_data\") || (!Object.prototype.hasOwnProperty.call(output.data, EXEC_MIME_TYPE))) {\n",
       "      return\n",
       "    }\n",
       "\n",
       "    const toinsert = output_area.element.find(\".\" + CLASS_NAME.split(' ')[0]);\n",
       "\n",
       "    if (output.metadata[EXEC_MIME_TYPE][\"id\"] !== undefined) {\n",
       "      toinsert[toinsert.length - 1].firstChild.textContent = output.data[JS_MIME_TYPE];\n",
       "      // store reference to embed id on output_area\n",
       "      output_area._bokeh_element_id = output.metadata[EXEC_MIME_TYPE][\"id\"];\n",
       "    }\n",
       "    if (output.metadata[EXEC_MIME_TYPE][\"server_id\"] !== undefined) {\n",
       "      const bk_div = document.createElement(\"div\");\n",
       "      bk_div.innerHTML = output.data[HTML_MIME_TYPE];\n",
       "      const script_attrs = bk_div.children[0].attributes;\n",
       "      for (let i = 0; i < script_attrs.length; i++) {\n",
       "        toinsert[toinsert.length - 1].firstChild.setAttribute(script_attrs[i].name, script_attrs[i].value);\n",
       "        toinsert[toinsert.length - 1].firstChild.textContent = bk_div.children[0].textContent\n",
       "      }\n",
       "      // store reference to server id on output_area\n",
       "      output_area._bokeh_server_id = output.metadata[EXEC_MIME_TYPE][\"server_id\"];\n",
       "    }\n",
       "  }\n",
       "\n",
       "  function register_renderer(events, OutputArea) {\n",
       "\n",
       "    function append_mime(data, metadata, element) {\n",
       "      // create a DOM node to render to\n",
       "      const toinsert = this.create_output_subarea(\n",
       "        metadata,\n",
       "        CLASS_NAME,\n",
       "        EXEC_MIME_TYPE\n",
       "      );\n",
       "      this.keyboard_manager.register_events(toinsert);\n",
       "      // Render to node\n",
       "      const props = {data: data, metadata: metadata[EXEC_MIME_TYPE]};\n",
       "      render(props, toinsert[toinsert.length - 1]);\n",
       "      element.append(toinsert);\n",
       "      return toinsert\n",
       "    }\n",
       "\n",
       "    /* Handle when an output is cleared or removed */\n",
       "    events.on('clear_output.CodeCell', handleClearOutput);\n",
       "    events.on('delete.Cell', handleClearOutput);\n",
       "\n",
       "    /* Handle when a new output is added */\n",
       "    events.on('output_added.OutputArea', handleAddOutput);\n",
       "\n",
       "    /**\n",
       "     * Register the mime type and append_mime function with output_area\n",
       "     */\n",
       "    OutputArea.prototype.register_mime_type(EXEC_MIME_TYPE, append_mime, {\n",
       "      /* Is output safe? */\n",
       "      safe: true,\n",
       "      /* Index of renderer in `output_area.display_order` */\n",
       "      index: 0\n",
       "    });\n",
       "  }\n",
       "\n",
       "  // register the mime type if in Jupyter Notebook environment and previously unregistered\n",
       "  if (root.Jupyter !== undefined) {\n",
       "    const events = require('base/js/events');\n",
       "    const OutputArea = require('notebook/js/outputarea').OutputArea;\n",
       "\n",
       "    if (OutputArea.prototype.mime_types().indexOf(EXEC_MIME_TYPE) == -1) {\n",
       "      register_renderer(events, OutputArea);\n",
       "    }\n",
       "  }\n",
       "  if (typeof (root._bokeh_timeout) === \"undefined\" || force === true) {\n",
       "    root._bokeh_timeout = Date.now() + 5000;\n",
       "    root._bokeh_failed_load = false;\n",
       "  }\n",
       "\n",
       "  const NB_LOAD_WARNING = {'data': {'text/html':\n",
       "     \"<div style='background-color: #fdd'>\\n\"+\n",
       "     \"<p>\\n\"+\n",
       "     \"BokehJS does not appear to have successfully loaded. If loading BokehJS from CDN, this \\n\"+\n",
       "     \"may be due to a slow or bad network connection. Possible fixes:\\n\"+\n",
       "     \"</p>\\n\"+\n",
       "     \"<ul>\\n\"+\n",
       "     \"<li>re-rerun `output_notebook()` to attempt to load from CDN again, or</li>\\n\"+\n",
       "     \"<li>use INLINE resources instead, as so:</li>\\n\"+\n",
       "     \"</ul>\\n\"+\n",
       "     \"<code>\\n\"+\n",
       "     \"from bokeh.resources import INLINE\\n\"+\n",
       "     \"output_notebook(resources=INLINE)\\n\"+\n",
       "     \"</code>\\n\"+\n",
       "     \"</div>\"}};\n",
       "\n",
       "  function display_loaded() {\n",
       "    const el = document.getElementById(\"1002\");\n",
       "    if (el != null) {\n",
       "      el.textContent = \"BokehJS is loading...\";\n",
       "    }\n",
       "    if (root.Bokeh !== undefined) {\n",
       "      if (el != null) {\n",
       "        el.textContent = \"BokehJS \" + root.Bokeh.version + \" successfully loaded.\";\n",
       "      }\n",
       "    } else if (Date.now() < root._bokeh_timeout) {\n",
       "      setTimeout(display_loaded, 100)\n",
       "    }\n",
       "  }\n",
       "\n",
       "  function run_callbacks() {\n",
       "    try {\n",
       "      root._bokeh_onload_callbacks.forEach(function(callback) {\n",
       "        if (callback != null)\n",
       "          callback();\n",
       "      });\n",
       "    } finally {\n",
       "      delete root._bokeh_onload_callbacks\n",
       "    }\n",
       "    console.debug(\"Bokeh: all callbacks have finished\");\n",
       "  }\n",
       "\n",
       "  function load_libs(css_urls, js_urls, callback) {\n",
       "    if (css_urls == null) css_urls = [];\n",
       "    if (js_urls == null) js_urls = [];\n",
       "\n",
       "    root._bokeh_onload_callbacks.push(callback);\n",
       "    if (root._bokeh_is_loading > 0) {\n",
       "      console.debug(\"Bokeh: BokehJS is being loaded, scheduling callback at\", now());\n",
       "      return null;\n",
       "    }\n",
       "    if (js_urls == null || js_urls.length === 0) {\n",
       "      run_callbacks();\n",
       "      return null;\n",
       "    }\n",
       "    console.debug(\"Bokeh: BokehJS not loaded, scheduling load and callback at\", now());\n",
       "    root._bokeh_is_loading = css_urls.length + js_urls.length;\n",
       "\n",
       "    function on_load() {\n",
       "      root._bokeh_is_loading--;\n",
       "      if (root._bokeh_is_loading === 0) {\n",
       "        console.debug(\"Bokeh: all BokehJS libraries/stylesheets loaded\");\n",
       "        run_callbacks()\n",
       "      }\n",
       "    }\n",
       "\n",
       "    function on_error(url) {\n",
       "      console.error(\"failed to load \" + url);\n",
       "    }\n",
       "\n",
       "    for (let i = 0; i < css_urls.length; i++) {\n",
       "      const url = css_urls[i];\n",
       "      const element = document.createElement(\"link\");\n",
       "      element.onload = on_load;\n",
       "      element.onerror = on_error.bind(null, url);\n",
       "      element.rel = \"stylesheet\";\n",
       "      element.type = \"text/css\";\n",
       "      element.href = url;\n",
       "      console.debug(\"Bokeh: injecting link tag for BokehJS stylesheet: \", url);\n",
       "      document.body.appendChild(element);\n",
       "    }\n",
       "\n",
       "    for (let i = 0; i < js_urls.length; i++) {\n",
       "      const url = js_urls[i];\n",
       "      const element = document.createElement('script');\n",
       "      element.onload = on_load;\n",
       "      element.onerror = on_error.bind(null, url);\n",
       "      element.async = false;\n",
       "      element.src = url;\n",
       "      console.debug(\"Bokeh: injecting script tag for BokehJS library: \", url);\n",
       "      document.head.appendChild(element);\n",
       "    }\n",
       "  };\n",
       "\n",
       "  function inject_raw_css(css) {\n",
       "    const element = document.createElement(\"style\");\n",
       "    element.appendChild(document.createTextNode(css));\n",
       "    document.body.appendChild(element);\n",
       "  }\n",
       "\n",
       "  const js_urls = [\"https://cdn.bokeh.org/bokeh/release/bokeh-2.4.3.min.js\", \"https://cdn.bokeh.org/bokeh/release/bokeh-gl-2.4.3.min.js\", \"https://cdn.bokeh.org/bokeh/release/bokeh-widgets-2.4.3.min.js\", \"https://cdn.bokeh.org/bokeh/release/bokeh-tables-2.4.3.min.js\", \"https://cdn.bokeh.org/bokeh/release/bokeh-mathjax-2.4.3.min.js\"];\n",
       "  const css_urls = [];\n",
       "\n",
       "  const inline_js = [    function(Bokeh) {\n",
       "      Bokeh.set_log_level(\"info\");\n",
       "    },\n",
       "function(Bokeh) {\n",
       "    }\n",
       "  ];\n",
       "\n",
       "  function run_inline_js() {\n",
       "    if (root.Bokeh !== undefined || force === true) {\n",
       "          for (let i = 0; i < inline_js.length; i++) {\n",
       "      inline_js[i].call(root, root.Bokeh);\n",
       "    }\n",
       "if (force === true) {\n",
       "        display_loaded();\n",
       "      }} else if (Date.now() < root._bokeh_timeout) {\n",
       "      setTimeout(run_inline_js, 100);\n",
       "    } else if (!root._bokeh_failed_load) {\n",
       "      console.log(\"Bokeh: BokehJS failed to load within specified timeout.\");\n",
       "      root._bokeh_failed_load = true;\n",
       "    } else if (force !== true) {\n",
       "      const cell = $(document.getElementById(\"1002\")).parents('.cell').data().cell;\n",
       "      cell.output_area.append_execute_result(NB_LOAD_WARNING)\n",
       "    }\n",
       "  }\n",
       "\n",
       "  if (root._bokeh_is_loading === 0) {\n",
       "    console.debug(\"Bokeh: BokehJS loaded, going straight to plotting\");\n",
       "    run_inline_js();\n",
       "  } else {\n",
       "    load_libs(css_urls, js_urls, function() {\n",
       "      console.debug(\"Bokeh: BokehJS plotting callback run at\", now());\n",
       "      run_inline_js();\n",
       "    });\n",
       "  }\n",
       "}(window));"
      ],
      "application/vnd.bokehjs_load.v0+json": "(function(root) {\n  function now() {\n    return new Date();\n  }\n\n  const force = true;\n\n  if (typeof root._bokeh_onload_callbacks === \"undefined\" || force === true) {\n    root._bokeh_onload_callbacks = [];\n    root._bokeh_is_loading = undefined;\n  }\n\n\n  if (typeof (root._bokeh_timeout) === \"undefined\" || force === true) {\n    root._bokeh_timeout = Date.now() + 5000;\n    root._bokeh_failed_load = false;\n  }\n\n  const NB_LOAD_WARNING = {'data': {'text/html':\n     \"<div style='background-color: #fdd'>\\n\"+\n     \"<p>\\n\"+\n     \"BokehJS does not appear to have successfully loaded. If loading BokehJS from CDN, this \\n\"+\n     \"may be due to a slow or bad network connection. Possible fixes:\\n\"+\n     \"</p>\\n\"+\n     \"<ul>\\n\"+\n     \"<li>re-rerun `output_notebook()` to attempt to load from CDN again, or</li>\\n\"+\n     \"<li>use INLINE resources instead, as so:</li>\\n\"+\n     \"</ul>\\n\"+\n     \"<code>\\n\"+\n     \"from bokeh.resources import INLINE\\n\"+\n     \"output_notebook(resources=INLINE)\\n\"+\n     \"</code>\\n\"+\n     \"</div>\"}};\n\n  function display_loaded() {\n    const el = document.getElementById(\"1002\");\n    if (el != null) {\n      el.textContent = \"BokehJS is loading...\";\n    }\n    if (root.Bokeh !== undefined) {\n      if (el != null) {\n        el.textContent = \"BokehJS \" + root.Bokeh.version + \" successfully loaded.\";\n      }\n    } else if (Date.now() < root._bokeh_timeout) {\n      setTimeout(display_loaded, 100)\n    }\n  }\n\n  function run_callbacks() {\n    try {\n      root._bokeh_onload_callbacks.forEach(function(callback) {\n        if (callback != null)\n          callback();\n      });\n    } finally {\n      delete root._bokeh_onload_callbacks\n    }\n    console.debug(\"Bokeh: all callbacks have finished\");\n  }\n\n  function load_libs(css_urls, js_urls, callback) {\n    if (css_urls == null) css_urls = [];\n    if (js_urls == null) js_urls = [];\n\n    root._bokeh_onload_callbacks.push(callback);\n    if (root._bokeh_is_loading > 0) {\n      console.debug(\"Bokeh: BokehJS is being loaded, scheduling callback at\", now());\n      return null;\n    }\n    if (js_urls == null || js_urls.length === 0) {\n      run_callbacks();\n      return null;\n    }\n    console.debug(\"Bokeh: BokehJS not loaded, scheduling load and callback at\", now());\n    root._bokeh_is_loading = css_urls.length + js_urls.length;\n\n    function on_load() {\n      root._bokeh_is_loading--;\n      if (root._bokeh_is_loading === 0) {\n        console.debug(\"Bokeh: all BokehJS libraries/stylesheets loaded\");\n        run_callbacks()\n      }\n    }\n\n    function on_error(url) {\n      console.error(\"failed to load \" + url);\n    }\n\n    for (let i = 0; i < css_urls.length; i++) {\n      const url = css_urls[i];\n      const element = document.createElement(\"link\");\n      element.onload = on_load;\n      element.onerror = on_error.bind(null, url);\n      element.rel = \"stylesheet\";\n      element.type = \"text/css\";\n      element.href = url;\n      console.debug(\"Bokeh: injecting link tag for BokehJS stylesheet: \", url);\n      document.body.appendChild(element);\n    }\n\n    for (let i = 0; i < js_urls.length; i++) {\n      const url = js_urls[i];\n      const element = document.createElement('script');\n      element.onload = on_load;\n      element.onerror = on_error.bind(null, url);\n      element.async = false;\n      element.src = url;\n      console.debug(\"Bokeh: injecting script tag for BokehJS library: \", url);\n      document.head.appendChild(element);\n    }\n  };\n\n  function inject_raw_css(css) {\n    const element = document.createElement(\"style\");\n    element.appendChild(document.createTextNode(css));\n    document.body.appendChild(element);\n  }\n\n  const js_urls = [\"https://cdn.bokeh.org/bokeh/release/bokeh-2.4.3.min.js\", \"https://cdn.bokeh.org/bokeh/release/bokeh-gl-2.4.3.min.js\", \"https://cdn.bokeh.org/bokeh/release/bokeh-widgets-2.4.3.min.js\", \"https://cdn.bokeh.org/bokeh/release/bokeh-tables-2.4.3.min.js\", \"https://cdn.bokeh.org/bokeh/release/bokeh-mathjax-2.4.3.min.js\"];\n  const css_urls = [];\n\n  const inline_js = [    function(Bokeh) {\n      Bokeh.set_log_level(\"info\");\n    },\nfunction(Bokeh) {\n    }\n  ];\n\n  function run_inline_js() {\n    if (root.Bokeh !== undefined || force === true) {\n          for (let i = 0; i < inline_js.length; i++) {\n      inline_js[i].call(root, root.Bokeh);\n    }\nif (force === true) {\n        display_loaded();\n      }} else if (Date.now() < root._bokeh_timeout) {\n      setTimeout(run_inline_js, 100);\n    } else if (!root._bokeh_failed_load) {\n      console.log(\"Bokeh: BokehJS failed to load within specified timeout.\");\n      root._bokeh_failed_load = true;\n    } else if (force !== true) {\n      const cell = $(document.getElementById(\"1002\")).parents('.cell').data().cell;\n      cell.output_area.append_execute_result(NB_LOAD_WARNING)\n    }\n  }\n\n  if (root._bokeh_is_loading === 0) {\n    console.debug(\"Bokeh: BokehJS loaded, going straight to plotting\");\n    run_inline_js();\n  } else {\n    load_libs(css_urls, js_urls, function() {\n      console.debug(\"Bokeh: BokehJS plotting callback run at\", now());\n      run_inline_js();\n    });\n  }\n}(window));"
     },
     "metadata": {},
     "output_type": "display_data"
    },
    {
     "name": "stdout",
     "output_type": "stream",
     "text": [
      "Finished loading.\n"
     ]
    }
   ],
   "source": [
    "# import the DocumentSimilarity tool\n",
    "print('Loading DocumentSimilarity...')\n",
    "from document_similarity import DocumentSimilarity, DownloadFileLink\n",
    "import sys\n",
    "\n",
    "# initialize the DocumentSimilarity\n",
    "ds = DocumentSimilarity()\n",
    "print('Finished loading.')"
   ]
  },
  {
   "cell_type": "markdown",
   "id": "775c91f2",
   "metadata": {},
   "source": [
    "## 2. Load the data\n",
    "This notebook will allow you to upload text data in a text file (or a number of text files). Alternatively, you can also upload text inside a text column inside your excel spreadsheet ([see an example here](https://github.com/Sydney-Informatics-Hub/HASS-29_Quotation_Tool/blob/main/documents/sample_texts.xlsx)).  \n",
    "\n",
    "<table style='margin-left: 10px'><tr>\n",
    "<td> <img src='./img/txt_icon.png' style='width: 45px'/> </td>\n",
    "<td> <img src='./img/xlsx_icon.png' style='width: 55px'/> </td>\n",
    "<td> <img src='./img/csv_icon.png' style='width: 45px'/> </td>\n",
    "<td> <img src='./img/zip_icon.png' style='width: 45px'/> </td>\n",
    "</tr></table>\n",
    "\n",
    "<div class=\"alert alert-block alert-warning\">\n",
    "<b>Uploading your text files</b> \n",
    "    \n",
    "If you have a large number of text files (more than 10MB in total), we suggest you compress (zip) them and upload the zip file instead. If you need assistance on how to compress your file, please check [the user guide](https://github.com/Australian-Text-Analytics-Platform/semantic-tagger/blob/main/documents/jupyter-notebook-guide.pdf) for more info. \n",
    "</div>\n",
    "\n",
    "<div class=\"alert alert-block alert-danger\">\n",
    "<b>Large file upload</b> \n",
    "    \n",
    "If you have ongoing issues with the file upload, please re-launch the notebook via Binder again. If the issue persists, consider restarting your computer.\n",
    "</div>"
   ]
  },
  {
   "cell_type": "code",
   "execution_count": 2,
   "id": "4e0a3574",
   "metadata": {},
   "outputs": [
    {
     "data": {
      "application/vnd.jupyter.widget-view+json": {
       "model_id": "7862ba8f09d345b5bef57b406cc30a89",
       "version_major": 2,
       "version_minor": 0
      },
      "text/plain": [
       "VBox(children=(FileUpload(value=(), accept='.txt, .xlsx, .csv, .zip', description='Upload your files (txt, csv…"
      ]
     },
     "metadata": {},
     "output_type": "display_data"
    },
    {
     "name": "stdout",
     "output_type": "stream",
     "text": [
      "Uploading large files may take a while. Please be patient.\n",
      "\u001b[1mPlease wait and do not press any buttons until the progress bar appears...\u001b[0m\n"
     ]
    }
   ],
   "source": [
    "# upload the text files and/or excel spreadsheets onto the system\n",
    "display(ds.upload_box)\n",
    "print('Uploading large files may take a while. Please be patient.')\n",
    "print('\\033[1mPlease wait and do not press any buttons until the progress bar appears...\\033[0m')"
   ]
  },
  {
   "cell_type": "code",
   "execution_count": 3,
   "id": "14aaf672",
   "metadata": {},
   "outputs": [
    {
     "data": {
      "text/html": [
       "<div>\n",
       "<style scoped>\n",
       "    .dataframe tbody tr th:only-of-type {\n",
       "        vertical-align: middle;\n",
       "    }\n",
       "\n",
       "    .dataframe tbody tr th {\n",
       "        vertical-align: top;\n",
       "    }\n",
       "\n",
       "    .dataframe thead th {\n",
       "        text-align: right;\n",
       "    }\n",
       "</style>\n",
       "<table border=\"1\" class=\"dataframe\">\n",
       "  <thead>\n",
       "    <tr style=\"text-align: right;\">\n",
       "      <th></th>\n",
       "      <th>text_name</th>\n",
       "      <th>text</th>\n",
       "      <th>text_id</th>\n",
       "    </tr>\n",
       "  </thead>\n",
       "  <tbody>\n",
       "    <tr>\n",
       "      <th>0</th>\n",
       "      <td>V15N004</td>\n",
       "      <td>?&lt;text_id=\"V15N004\"&gt;\\nMEMO FOR MUMS TO BE Get ...</td>\n",
       "      <td>5dd1036268</td>\n",
       "    </tr>\n",
       "    <tr>\n",
       "      <th>1</th>\n",
       "      <td>H15N015</td>\n",
       "      <td>?&lt;text_id=\"H15N015\"&gt;\\nPregnancy and diabetes l...</td>\n",
       "      <td>9f46c903c3</td>\n",
       "    </tr>\n",
       "    <tr>\n",
       "      <th>2</th>\n",
       "      <td>D17N010</td>\n",
       "      <td>?&lt;text_id=\"D17N010\"&gt;\\nA cup of cheer for diabe...</td>\n",
       "      <td>21bca9c004</td>\n",
       "    </tr>\n",
       "    <tr>\n",
       "      <th>3</th>\n",
       "      <td>H15N001</td>\n",
       "      <td>?&lt;text_id=\"H15N001\"&gt;\\nDiabetes raises risk of ...</td>\n",
       "      <td>051a1333c0</td>\n",
       "    </tr>\n",
       "    <tr>\n",
       "      <th>4</th>\n",
       "      <td>D17N004</td>\n",
       "      <td>?&lt;text_id=\"D17N004\"&gt;\\nApple 's sweet on fighti...</td>\n",
       "      <td>ca9df0dd97</td>\n",
       "    </tr>\n",
       "  </tbody>\n",
       "</table>\n",
       "</div>"
      ],
      "text/plain": [
       "  text_name                                               text     text_id\n",
       "0   V15N004  ?<text_id=\"V15N004\">\\nMEMO FOR MUMS TO BE Get ...  5dd1036268\n",
       "1   H15N015  ?<text_id=\"H15N015\">\\nPregnancy and diabetes l...  9f46c903c3\n",
       "2   D17N010  ?<text_id=\"D17N010\">\\nA cup of cheer for diabe...  21bca9c004\n",
       "3   H15N001  ?<text_id=\"H15N001\">\\nDiabetes raises risk of ...  051a1333c0\n",
       "4   D17N004  ?<text_id=\"D17N004\">\\nApple 's sweet on fighti...  ca9df0dd97"
      ]
     },
     "execution_count": 3,
     "metadata": {},
     "output_type": "execute_result"
    }
   ],
   "source": [
    "# display uploaded text\n",
    "n=5\n",
    "\n",
    "ds.text_df.head(n)"
   ]
  },
  {
   "cell_type": "markdown",
   "id": "69966b64",
   "metadata": {},
   "source": [
    "## 3. Calculate Document Similarity\n",
    "Once your texts have been uploaded, you can begin to calculate the similarity between documents in the corpus. \n",
    "\n",
    "<div class=\"alert alert-block alert-info\">\n",
    "<b>Tools:</b>    \n",
    "\n",
    "- MinHash: fast implementation of estimating Jaccard similarity between documents in the corpus.  \n",
    "- Gensim: to tokenize the text.  \n",
    "    \n",
    "<b>Note:</b> in general, Gensim splits the text whenever whitespace or punctuation is encountered and digits are excluded, e.g., the text \"Here's to victory no 2\" will be tokenized into five tokens: \"Here\", \"s\", \"to\", \"victory\" and \"no\". For more information, please visit [this page](https://radimrehurek.com/gensim/utils.html#gensim.utils.tokenize).\n",
    "</div>\n",
    "\n",
    "<div class=\"alert alert-block alert-danger\">\n",
    "<b>Memory limitation in Binder</b> \n",
    "    \n",
    "The free Binder deployment is only guaranteed a maximum of 2GB memory. Processing very large text files may cause the session (kernel) to re-start due to insufficient memory. Check [the user guide](https://github.com/Australian-Text-Analytics-Platform/semantic-tagger/blob/main/documents/jupyter-notebook-guide.pdf) for more info. \n",
    "</div>\n",
    "\n",
    "<div class=\"alert alert-block alert-warning\">\n",
    "<b>Parameters for calculating similarity</b> \n",
    "    \n",
    "The DocumentSimilarity tool uses Jaccard similarity to measure the similarity between documents. In the code below, we have specified and explained the default parameters for calculating the Jaccard similarity. However, you can also change these parameters should you wish. \n",
    "</div>"
   ]
  },
  {
   "cell_type": "code",
   "execution_count": 3,
   "id": "e5a5539d",
   "metadata": {},
   "outputs": [],
   "source": [
    "# USER SPECIFIES THESE VARIABLES\n",
    "# set the n-gram size (the number of words used to detect similarity), \n",
    "# e.g., n-gram=1 means compare every word ('apple' and 'orange'), \n",
    "# n-gram=2 means compare every pair of words ('one apple' and 'two oranges'), etc.\n",
    "ngram_value = 1\n",
    "\n",
    "# select whether to calculate actual or estimated Jaccard similarity \n",
    "# to measure the similarity between documents \n",
    "# we recommend using estimated Jaccard similarity for large corpus of documents (faster)\n",
    "actual_jaccard = False # True or False\n",
    "\n",
    "# whether to exclude punctuations when calculating Jaccard similarity\n",
    "ds.exclude_punc = False # True or False\n",
    "\n",
    "# set the number of permutation functions (num_perm) parameter for estimating Jaccard similarity\n",
    "# higher permutation functions improves the accuracy, but also increases query cost\n",
    "num_perm = 256\n",
    "\n",
    "# anything with >= the cutoff will be identified as similar documents\n",
    "similarity_cutoff = 0.5 # value should be between 0-1"
   ]
  },
  {
   "cell_type": "code",
   "execution_count": 4,
   "id": "d12845d7",
   "metadata": {},
   "outputs": [
    {
     "name": "stderr",
     "output_type": "stream",
     "text": [
      "Step 9/9: 100%|████████████████████████████████████████████████████████████████████| 242/242 [00:00<00:00, 43399.25it/s]"
     ]
    },
    {
     "name": "stdout",
     "output_type": "stream",
     "text": [
      "160 pair of similar documents found in the corpus.\n"
     ]
    },
    {
     "name": "stderr",
     "output_type": "stream",
     "text": [
      "\n"
     ]
    }
   ],
   "source": [
    "# begin the process of calculating similarity and identify similar documents\n",
    "ds.calculate_similarity(ngram_value, num_perm, similarity_cutoff, actual_jaccard)"
   ]
  },
  {
   "cell_type": "markdown",
   "id": "76123092",
   "metadata": {},
   "source": [
    "## 3. Analyse similar documents\n",
    "Once the tool has finished calculating the document similarity, you can begin to analyse the outcome.  \n",
    "\n",
    "The graph below is a histogram of the count of similar documents in the corpus as measured by their Jaccard similarity. In this histogram, you can identify how many documents are found at different level of similarity measures.\n",
    "\n",
    "<div class=\"alert alert-block alert-warning\">\n",
    "<b>Histogram of similar documents</b> \n",
    "    \n",
    "The x-axis on the histogram shows the Jaccard similarity scores for every document in the corpus, and the y-axis (the height of the bar) tells us how many similar documents are found at those Jaccard similarity score ranges. \n",
    "</div>"
   ]
  },
  {
   "cell_type": "code",
   "execution_count": 5,
   "id": "f144e38e",
   "metadata": {},
   "outputs": [
    {
     "data": {
      "text/plain": [
       "<Axes: title={'center': 'Similarity count accross the entire corpus'}, xlabel='Jaccard similarity score', ylabel='No. of similar documents'>"
      ]
     },
     "execution_count": 5,
     "metadata": {},
     "output_type": "execute_result"
    },
    {
     "data": {
      "image/png": "[encoded data removed]",
      "text/plain": [
       "<Figure size 640x480 with 1 Axes>"
      ]
     },
     "metadata": {},
     "output_type": "display_data"
    }
   ],
   "source": [
    "# plot the similarity count accross the entire corpus\n",
    "ds.plot_hash_similarity_by_source(ds.deduplication_df)"
   ]
  },
  {
   "cell_type": "markdown",
   "id": "1074b7b4",
   "metadata": {},
   "source": [
    "<div class=\"alert alert-block alert-warning\">\n",
    "<b>Heatmap of similar documents</b> \n",
    "    \n",
    "The below heatmap shows the Jaccard similarity scores between pair of similar documents, with the x- and y-axes showing the text_id of the similar document pairs (you can hover over the similar nodes to display the text name pairs). Please note that the heatmap only displays pair of similar documents with scores above the similarity cut-off, as defined earlier.  \n",
    "</div>  \n",
    "\n",
    "<div class=\"alert alert-block alert-danger\">\n",
    "<b>Large number of similar documents</b> \n",
    "    \n",
    "You can resize the heatmap, adjust the font size or the font color to better visualize your data by specifying the below parameters. You can also zoom in/out of the heatmap, move it around, save and download it to your local computer using the interactive tool on the right hand-side of the heatmap.  \n",
    "\n",
    "<b>Note:</b> visualizing a large number of similar document pairs (>500) may slow down the notebook.   \n",
    "</div>"
   ]
  },
  {
   "cell_type": "code",
   "execution_count": 6,
   "id": "b074f14f",
   "metadata": {},
   "outputs": [
    {
     "name": "stdout",
     "output_type": "stream",
     "text": [
      "\u001b[1mVisualizing a large number of similar document pairs (>500) may slow down the notebook.\u001b[0m\n",
      "There are \u001b[1m160\u001b[0m document pairs in the current process\n"
     ]
    },
    {
     "name": "stdin",
     "output_type": "stream",
     "text": [
      "Enter a number to proceed with the first N pairs, 'y + Enter' to proceed full and 'n + Enter' to cancel: y\n"
     ]
    },
    {
     "name": "stdout",
     "output_type": "stream",
     "text": [
      "\n",
      "\u001b[1mYou can hover over the similar nodes to display the text name pairs.\u001b[0m\n",
      "\n"
     ]
    },
    {
     "data": {
      "text/html": [
       "\n",
       "  <div class=\"bk-root\" id=\"2e78d91c-e3e8-44cf-aa96-3833688df103\" data-root-id=\"1003\"></div>\n"
      ]
     },
     "metadata": {},
     "output_type": "display_data"
    },
    {
     "data": {
      "application/javascript": [
       "(function(root) {\n",
       "  function embed_document(root) {\n",
       "  const docs_json = {\"953ee255-cded-44f3-9414-1f53f5a1cbf0\":{\"defs\":[],\"roots\":{\"references\":[{\"attributes\":{\"below\":[{\"id\":\"1014\"}],\"center\":[{\"id\":\"1016\"},{\"id\":\"1019\"},{\"id\":\"1045\"}],\"height\":800,\"left\":[{\"id\":\"1017\"}],\"renderers\":[{\"id\":\"1042\"}],\"right\":[{\"id\":\"1047\"}],\"title\":{\"id\":\"1004\"},\"toolbar\":{\"id\":\"1028\"},\"width\":900,\"x_range\":{\"id\":\"1006\"},\"x_scale\":{\"id\":\"1010\"},\"y_range\":{\"id\":\"1008\"},\"y_scale\":{\"id\":\"1012\"}},\"id\":\"1003\",\"subtype\":\"Figure\",\"type\":\"Plot\"},{\"attributes\":{},\"id\":\"1050\",\"type\":\"CategoricalTickFormatter\"},{\"attributes\":{},\"id\":\"1021\",\"type\":\"WheelZoomTool\"},{\"attributes\":{},\"id\":\"1054\",\"type\":\"CategoricalTickFormatter\"},{\"attributes\":{\"axis_label\":\"text_id1\",\"axis_label_text_font_size\":\"16px\",\"coordinates\":null,\"formatter\":{\"id\":\"1054\"},\"group\":null,\"major_label_orientation\":\"vertical\",\"major_label_policy\":{\"id\":\"1055\"},\"major_label_text_font_size\":\"14px\",\"ticker\":{\"id\":\"1015\"}},\"id\":\"1014\",\"type\":\"CategoricalAxis\"},{\"attributes\":{},\"id\":\"1060\",\"type\":\"Selection\"},{\"attributes\":{\"source\":{\"id\":\"1037\"}},\"id\":\"1043\",\"type\":\"CDSView\"},{\"attributes\":{},\"id\":\"1012\",\"type\":\"CategoricalScale\"},{\"attributes\":{\"overlay\":{\"id\":\"1026\"}},\"id\":\"1022\",\"type\":\"BoxZoomTool\"},{\"attributes\":{},\"id\":\"1059\",\"type\":\"UnionRenderers\"},{\"attributes\":{\"coordinates\":null,\"group\":null,\"level\":\"glyph\",\"source\":{\"id\":\"1044\"},\"text\":{\"field\":\"sim_str\"},\"text_align\":{\"value\":\"center\"},\"text_color\":{\"value\":\"white\"},\"text_font_size\":{\"value\":\"14px\"},\"text_font_style\":{\"value\":\"bold\"},\"x\":{\"field\":\"text_id1\"},\"y\":{\"field\":\"text_id2\"}},\"id\":\"1045\",\"type\":\"LabelSet\"},{\"attributes\":{\"coordinates\":null,\"group\":null,\"text\":\"Jaccard similarity heatmap (score>0.5)\"},\"id\":\"1004\",\"type\":\"Title\"},{\"attributes\":{},\"id\":\"1052\",\"type\":\"NoOverlap\"},{\"attributes\":{},\"id\":\"1056\",\"type\":\"UnionRenderers\"},{\"attributes\":{},\"id\":\"1020\",\"type\":\"PanTool\"},{\"attributes\":{},\"id\":\"1025\",\"type\":\"HelpTool\"},{\"attributes\":{\"tools\":[{\"id\":\"1020\"},{\"id\":\"1021\"},{\"id\":\"1022\"},{\"id\":\"1023\"},{\"id\":\"1024\"},{\"id\":\"1025\"},{\"id\":\"1027\"}]},\"id\":\"1028\",\"type\":\"Toolbar\"},{\"attributes\":{},\"id\":\"1010\",\"type\":\"CategoricalScale\"},{\"attributes\":{\"fill_alpha\":{\"value\":0.1},\"fill_color\":{\"field\":\"similarity\",\"transform\":{\"id\":\"1036\"}},\"hatch_alpha\":{\"value\":0.1},\"height\":{\"value\":1},\"line_alpha\":{\"value\":0.1},\"line_color\":{\"value\":\"#1f77b4\"},\"width\":{\"value\":1},\"x\":{\"field\":\"text_id1\"},\"y\":{\"field\":\"text_id2\"}},\"id\":\"1040\",\"type\":\"Rect\"},{\"attributes\":{\"high\":0,\"low\":1,\"palette\":[\"#440154\",\"#440255\",\"#440357\",\"#450558\",\"#45065A\",\"#45085B\",\"#46095C\",\"#460B5E\",\"#460C5F\",\"#460E61\",\"#470F62\",\"#471163\",\"#471265\",\"#471466\",\"#471567\",\"#471669\",\"#47186A\",\"#48196B\",\"#481A6C\",\"#481C6E\",\"#481D6F\",\"#481E70\",\"#482071\",\"#482172\",\"#482273\",\"#482374\",\"#472575\",\"#472676\",\"#472777\",\"#472878\",\"#472A79\",\"#472B7A\",\"#472C7B\",\"#462D7C\",\"#462F7C\",\"#46307D\",\"#46317E\",\"#45327F\",\"#45347F\",\"#453580\",\"#453681\",\"#443781\",\"#443982\",\"#433A83\",\"#433B83\",\"#433C84\",\"#423D84\",\"#423E85\",\"#424085\",\"#414186\",\"#414286\",\"#404387\",\"#404487\",\"#3F4587\",\"#3F4788\",\"#3E4888\",\"#3E4989\",\"#3D4A89\",\"#3D4B89\",\"#3D4C89\",\"#3C4D8A\",\"#3C4E8A\",\"#3B508A\",\"#3B518A\",\"#3A528B\",\"#3A538B\",\"#39548B\",\"#39558B\",\"#38568B\",\"#38578C\",\"#37588C\",\"#37598C\",\"#365A8C\",\"#365B8C\",\"#355C8C\",\"#355D8C\",\"#345E8D\",\"#345F8D\",\"#33608D\",\"#33618D\",\"#32628D\",\"#32638D\",\"#31648D\",\"#31658D\",\"#31668D\",\"#30678D\",\"#30688D\",\"#2F698D\",\"#2F6A8D\",\"#2E6B8E\",\"#2E6C8E\",\"#2E6D8E\",\"#2D6E8E\",\"#2D6F8E\",\"#2C708E\",\"#2C718E\",\"#2C728E\",\"#2B738E\",\"#2B748E\",\"#2A758E\",\"#2A768E\",\"#2A778E\",\"#29788E\",\"#29798E\",\"#287A8E\",\"#287A8E\",\"#287B8E\",\"#277C8E\",\"#277D8E\",\"#277E8E\",\"#267F8E\",\"#26808E\",\"#26818E\",\"#25828E\",\"#25838D\",\"#24848D\",\"#24858D\",\"#24868D\",\"#23878D\",\"#23888D\",\"#23898D\",\"#22898D\",\"#228A8D\",\"#228B8D\",\"#218C8D\",\"#218D8C\",\"#218E8C\",\"#208F8C\",\"#20908C\",\"#20918C\",\"#1F928C\",\"#1F938B\",\"#1F948B\",\"#1F958B\",\"#1F968B\",\"#1E978A\",\"#1E988A\",\"#1E998A\",\"#1E998A\",\"#1E9A89\",\"#1E9B89\",\"#1E9C89\",\"#1E9D88\",\"#1E9E88\",\"#1E9F88\",\"#1EA087\",\"#1FA187\",\"#1FA286\",\"#1FA386\",\"#20A485\",\"#20A585\",\"#21A685\",\"#21A784\",\"#22A784\",\"#23A883\",\"#23A982\",\"#24AA82\",\"#25AB81\",\"#26AC81\",\"#27AD80\",\"#28AE7F\",\"#29AF7F\",\"#2AB07E\",\"#2BB17D\",\"#2CB17D\",\"#2EB27C\",\"#2FB37B\",\"#30B47A\",\"#32B57A\",\"#33B679\",\"#35B778\",\"#36B877\",\"#38B976\",\"#39B976\",\"#3BBA75\",\"#3DBB74\",\"#3EBC73\",\"#40BD72\",\"#42BE71\",\"#44BE70\",\"#45BF6F\",\"#47C06E\",\"#49C16D\",\"#4BC26C\",\"#4DC26B\",\"#4FC369\",\"#51C468\",\"#53C567\",\"#55C666\",\"#57C665\",\"#59C764\",\"#5BC862\",\"#5EC961\",\"#60C960\",\"#62CA5F\",\"#64CB5D\",\"#67CC5C\",\"#69CC5B\",\"#6BCD59\",\"#6DCE58\",\"#70CE56\",\"#72CF55\",\"#74D054\",\"#77D052\",\"#79D151\",\"#7CD24F\",\"#7ED24E\",\"#81D34C\",\"#83D34B\",\"#86D449\",\"#88D547\",\"#8BD546\",\"#8DD644\",\"#90D643\",\"#92D741\",\"#95D73F\",\"#97D83E\",\"#9AD83C\",\"#9DD93A\",\"#9FD938\",\"#A2DA37\",\"#A5DA35\",\"#A7DB33\",\"#AADB32\",\"#ADDC30\",\"#AFDC2E\",\"#B2DD2C\",\"#B5DD2B\",\"#B7DD29\",\"#BADE27\",\"#BDDE26\",\"#BFDF24\",\"#C2DF22\",\"#C5DF21\",\"#C7E01F\",\"#CAE01E\",\"#CDE01D\",\"#CFE11C\",\"#D2E11B\",\"#D4E11A\",\"#D7E219\",\"#DAE218\",\"#DCE218\",\"#DFE318\",\"#E1E318\",\"#E4E318\",\"#E7E419\",\"#E9E419\",\"#ECE41A\",\"#EEE51B\",\"#F1E51C\",\"#F3E51E\",\"#F6E61F\",\"#F8E621\",\"#FAE622\",\"#FDE724\"]},\"id\":\"1036\",\"type\":\"LinearColorMapper\"},{\"attributes\":{},\"id\":\"1057\",\"type\":\"Selection\"},{\"attributes\":{},\"id\":\"1015\",\"type\":\"CategoricalTicker\"},{\"attributes\":{},\"id\":\"1023\",\"type\":\"SaveTool\"},{\"attributes\":{\"axis\":{\"id\":\"1017\"},\"coordinates\":null,\"dimension\":1,\"group\":null,\"ticker\":null},\"id\":\"1019\",\"type\":\"Grid\"},{\"attributes\":{\"coordinates\":null,\"data_source\":{\"id\":\"1037\"},\"glyph\":{\"id\":\"1039\"},\"group\":null,\"hover_glyph\":null,\"muted_glyph\":{\"id\":\"1041\"},\"nonselection_glyph\":{\"id\":\"1040\"},\"view\":{\"id\":\"1043\"}},\"id\":\"1042\",\"type\":\"GlyphRenderer\"},{\"attributes\":{\"fill_color\":{\"field\":\"similarity\",\"transform\":{\"id\":\"1036\"}},\"height\":{\"value\":1},\"line_color\":{\"value\":\"#1f77b4\"},\"width\":{\"value\":1},\"x\":{\"field\":\"text_id1\"},\"y\":{\"field\":\"text_id2\"}},\"id\":\"1039\",\"type\":\"Rect\"},{\"attributes\":{\"factors\":[\"edb5329c56\",\"688bd353fc\",\"b3496c2b9d\",\"899fa9d7cc\",\"64c7679918\",\"4dd80290be\",\"84f151002a\",\"fbe97608af\",\"3a5dda4ea9\",\"16c8c32612\",\"6e9956cc91\",\"e3fc48c763\",\"9afcb14344\",\"af4107906f\",\"519a9ae45a\",\"432ae0b88c\",\"26fbf49007\",\"27a1260f40\",\"10a6e411a8\",\"f6ecafaed9\",\"b6a02c58af\",\"e69c70f96e\",\"3c56d20931\",\"7df6bbf464\",\"f7c4531c31\",\"9fc29c1b6f\",\"521bb78adf\",\"f15972d17c\",\"0676271e0c\",\"b7eca0182b\",\"2facf1d8c4\",\"7676b404b6\",\"73cbd5f20c\",\"8ffd5fcc4a\",\"901828c0b2\",\"87eb938e35\",\"355821c021\",\"0f287371e4\",\"3dd03d211a\",\"0c4c9acdc1\",\"be7b348e17\",\"acc49facef\",\"bd27ec3c7e\",\"e78a7214b4\",\"dd9736b04b\",\"c7c566ac43\",\"ab9d44b2d8\",\"a3add2bd07\",\"048b4a5b53\",\"ece0ee6a30\",\"45c788ec6a\",\"a3e0c44a15\",\"6a6db40aac\",\"c68dc3302f\",\"80436a50d0\",\"c1c0e6aad4\",\"fad059fd57\",\"ec8419dc2d\",\"41adb27a25\",\"591536f04d\",\"fd1ebf32df\",\"42d17d4f42\",\"ba341b4f35\",\"3960ce35a6\",\"5e7ae57daf\",\"02ffc20748\",\"8e3a0ecc7e\",\"64f27de094\",\"4f9fb86ed5\",\"1e8de0bed6\",\"914bc53b5c\",\"3d3a9dfa4f\",\"2494cd5102\",\"76a45f921d\",\"d4c9a0b387\",\"6b653425f5\",\"676597d21a\",\"a0ef052323\",\"2d07d9799d\",\"78f5a14c7b\",\"aaac41d476\",\"3f88375a80\",\"2ecd55590f\",\"b095bfbe34\",\"f3b2a04b74\",\"28c042842d\",\"dadb615d6c\",\"c03994ed8b\",\"961a1dc878\",\"53892a3121\",\"69ca262e9e\",\"ff69773ada\",\"d3c4b19edd\",\"f03eb4f187\",\"6130cefa3b\",\"a203b4c6d3\",\"f7b24e7a58\",\"3b2f90c27e\",\"431a500f89\",\"bb0ca627cd\",\"b68accfa79\",\"b0fe5d466d\",\"e7c3f31419\",\"ca7cc07a93\",\"154778d9b0\",\"a06e8ddebc\",\"425f84a508\",\"0793eab599\",\"8fecc6efd0\",\"c02faa6925\",\"99aa2452c6\",\"21cbff896d\",\"c326a6a0a5\",\"e69856a0c6\"]},\"id\":\"1008\",\"type\":\"FactorRange\"},{\"attributes\":{},\"id\":\"1018\",\"type\":\"CategoricalTicker\"},{\"attributes\":{},\"id\":\"1024\",\"type\":\"ResetTool\"},{\"attributes\":{\"axis_label\":\"text_id2\",\"axis_label_text_font_size\":\"16px\",\"coordinates\":null,\"formatter\":{\"id\":\"1050\"},\"group\":null,\"major_label_policy\":{\"id\":\"1051\"},\"major_label_text_font_size\":\"14px\",\"ticker\":{\"id\":\"1018\"}},\"id\":\"1017\",\"type\":\"CategoricalAxis\"},{\"attributes\":{\"callback\":null,\"tooltips\":[[\"text_name1\",\"@text_name1\"],[\"text_name2\",\"@text_name2\"],[\"similarity\",\"@sim_str\"]]},\"id\":\"1027\",\"type\":\"HoverTool\"},{\"attributes\":{},\"id\":\"1051\",\"type\":\"AllLabels\"},{\"attributes\":{\"color_mapper\":{\"id\":\"1036\"},\"coordinates\":null,\"group\":null,\"major_label_policy\":{\"id\":\"1052\"}},\"id\":\"1047\",\"type\":\"ColorBar\"},{\"attributes\":{\"data\":{\"index\":[0,1,2,3,4,5,6,7,8,9,10,11,12,13,14,15,16,17,18,19,20,21,22,23,24,25,26,27,28,29,30,31,32,33,34,35,36,37,38,39,40,41,42,43,44,45,46,47,48,49,50,51,52,53,54,55,56,57,58,59,60,61,62,63,64,65,66,67,68,69,70,71,72,73,74,75,76,77,78,79,80,81,82,83,84,85,86,87,88,89,90,91,92,93,94,95,96,97,98,99,100,101,102,103,104,105,106,107,108,109,110,111,112,113,114,115,116,117,118,119,120,121,122,123,124,125,126,127,128,129,130,131,132,133,134,135,136,137,138,139,140,141,142,143,144,145,146,147,148,149,150,151,152,153,154,155,156,157,158,159],\"sim_str\":[\"1.0\",\"1.0\",\"1.0\",\"0.99\",\"0.99\",\"0.99\",\"0.99\",\"0.99\",\"0.99\",\"0.99\",\"0.98\",\"0.98\",\"0.97\",\"0.96\",\"0.96\",\"0.96\",\"0.96\",\"0.96\",\"0.96\",\"0.96\",\"0.96\",\"0.95\",\"0.95\",\"0.95\",\"0.93\",\"0.93\",\"0.9\",\"0.89\",\"0.89\",\"0.89\",\"0.89\",\"0.89\",\"0.88\",\"0.88\",\"0.88\",\"0.87\",\"0.87\",\"0.87\",\"0.86\",\"0.86\",\"0.86\",\"0.86\",\"0.85\",\"0.84\",\"0.84\",\"0.84\",\"0.83\",\"0.83\",\"0.83\",\"0.82\",\"0.82\",\"0.82\",\"0.81\",\"0.8\",\"0.8\",\"0.79\",\"0.79\",\"0.79\",\"0.79\",\"0.79\",\"0.78\",\"0.78\",\"0.77\",\"0.77\",\"0.77\",\"0.77\",\"0.77\",\"0.75\",\"0.75\",\"0.74\",\"0.74\",\"0.73\",\"0.73\",\"0.73\",\"0.73\",\"0.72\",\"0.72\",\"0.72\",\"0.72\",\"0.71\",\"0.71\",\"0.71\",\"0.7\",\"0.7\",\"0.7\",\"0.7\",\"0.7\",\"0.7\",\"0.69\",\"0.69\",\"0.68\",\"0.68\",\"0.68\",\"0.68\",\"0.67\",\"0.67\",\"0.67\",\"0.67\",\"0.67\",\"0.67\",\"0.67\",\"0.66\",\"0.66\",\"0.66\",\"0.66\",\"0.65\",\"0.65\",\"0.65\",\"0.64\",\"0.64\",\"0.64\",\"0.64\",\"0.64\",\"0.64\",\"0.63\",\"0.62\",\"0.62\",\"0.62\",\"0.62\",\"0.61\",\"0.61\",\"0.61\",\"0.61\",\"0.61\",\"0.61\",\"0.6\",\"0.6\",\"0.6\",\"0.6\",\"0.6\",\"0.6\",\"0.59\",\"0.59\",\"0.59\",\"0.58\",\"0.57\",\"0.57\",\"0.57\",\"0.57\",\"0.56\",\"0.56\",\"0.55\",\"0.55\",\"0.54\",\"0.54\",\"0.54\",\"0.54\",\"0.54\",\"0.54\",\"0.54\",\"0.53\",\"0.53\",\"0.53\",\"0.52\",\"0.52\",\"0.52\",\"0.51\",\"0.51\",\"0.5\",\"0.5\"],\"similarity\":{\"__ndarray__\":\"jnVxGw3g7z+OdXEbDeDvP451cRsN4O8/HOviNhrA7z8c6+I2GsDvPxzr4jYawO8/HOviNhrA7z+qYFRSJ6DvP6pgVFInoO8/qmBUUieg7z9VwaikTkDvP1XBqKROQO8/cayL22gA7z8dyeU/pN/uPx3J5T+k3+4/HcnlP6Tf7j8dyeU/pN/uPx3J5T+k3+4/qz5XW7G/7j85tMh2vp/uPzm0yHa+n+4/Vp+rrdhf7j9Wn6ut2F/uP+QUHcnlP+4/jnVxGw3g7T+qYFRSJ6DtPx3J5T+k3+w/ObTIdr6f7D85tMh2vp/sP8cpOpLLf+w/xyk6kst/7D/HKTqSy3/sP3KKjuTyH+w/coqO5PIf7D9yio7k8h/sP451cRsN4Os/HOviNhrA6z8c6+I2GsDrP6pgVFInoOs/x0s3iUFg6z/HSzeJQWDrP8dLN4lBYOs/VcGopE5A6z9xrIvbaADrPx3J5T+k3+o/qz5XW7G/6j85tMh2vp/qP8cpOpLLf+o/xyk6kst/6j/kFB3J5T/qP3KKjuTyH+o/coqO5PIf6j8AAAAAAADqPxzr4jYawOk/OdbFbTSA6T9VwaikTkDpP1XBqKROQOk/VcGopE5A6T/jNhrAWyDpP+M2GsBbIOk/j1N0JJf/6D+PU3Qkl//oP6s+V1uxv+g/qz5XW7G/6D85tMh2vp/oP8cpOpLLf+g/xyk6kst/6D9yio7k8h/oPwAAAAAAAOg/HOviNhrA5z+qYFRSJ6DnPznWxW00gOc/OdbFbTSA5z/HSzeJQWDnP8dLN4lBYOc/4zYawFsg5z/jNhrAWyDnP+M2GsBbIOc/cayL22gA5z8dyeU/pN/mPzm0yHa+n+Y/ObTIdr6f5j/HKTqSy3/mP1afq63YX+Y/Vp+rrdhf5j9Wn6ut2F/mP1afq63YX+Y/5BQdyeU/5j9yio7k8h/mPwAAAAAAAOY/HOviNhrA5T8c6+I2GsDlP6pgVFInoOU/qmBUUieg5T851sVtNIDlPznWxW00gOU/OdbFbTSA5T851sVtNIDlPznWxW00gOU/x0s3iUFg5T/HSzeJQWDlP+M2GsBbIOU/j1N0JJf/5D+PU3Qkl//kP49TdCSX/+Q/qz5XW7G/5D+rPldbsb/kP6s+V1uxv+Q/xyk6kst/5D/HKTqSy3/kP1afq63YX+Q/Vp+rrdhf5D9Wn6ut2F/kP1afq63YX+Q/5BQdyeU/5D8AAAAAAADkPwAAAAAAAOQ/jnVxGw3g4z8c6+I2GsDjP6pgVFInoOM/qmBUUieg4z+qYFRSJ6DjP8dLN4lBYOM/x0s3iUFg4z/HSzeJQWDjP+M2GsBbIOM/4zYawFsg4z/jNhrAWyDjP+M2GsBbIOM/4zYawFsg4z/jNhrAWyDjP3Gsi9toAOM/HcnlP6Tf4j8dyeU/pN/iPzm0yHa+n+I/Vp+rrdhf4j9Wn6ut2F/iP1afq63YX+I/coqO5PIf4j8AAAAAAADiPwAAAAAAAOI/HOviNhrA4T+qYFRSJ6DhP8dLN4lBYOE/x0s3iUFg4T/HSzeJQWDhP8dLN4lBYOE/VcGopE5A4T/jNhrAWyDhP+M2GsBbIOE/j1N0JJf/4D+PU3Qkl//gPx3J5T+k3+A/qz5XW7G/4D85tMh2vp/gP8cpOpLLf+A/Vp+rrdhf4D9Wn6ut2F/gP3KKjuTyH+A/coqO5PIf4D8=\",\"dtype\":\"float64\",\"order\":\"little\",\"shape\":[160]},\"text_id1\":[\"68032ddced\",\"961a1dc878\",\"30478f9ca9\",\"26fbf49007\",\"e69856a0c6\",\"c4dce1097b\",\"e69856a0c6\",\"914bc53b5c\",\"c4dce1097b\",\"b7a9771419\",\"a1f176f44f\",\"c696828e8c\",\"2494cd5102\",\"f611923385\",\"f611923385\",\"f611923385\",\"2aee1d5e50\",\"c696828e8c\",\"c696828e8c\",\"52cc570ba3\",\"87ea017307\",\"961a1dc878\",\"6f043de782\",\"c326a6a0a5\",\"368f5294cf\",\"92a88a6d82\",\"0f3f5b7b20\",\"de088e8247\",\"fe54f0b2f3\",\"75fbd1aebf\",\"b1b0d24228\",\"36b24a602b\",\"8fecc6efd0\",\"0f3f5b7b20\",\"ca9df0dd97\",\"fe54f0b2f3\",\"519a9ae45a\",\"9b97c9051e\",\"fc1dfb29e0\",\"9b97c9051e\",\"ebf560b40e\",\"1fc530e916\",\"2d07d9799d\",\"9afcb14344\",\"e74ccadfce\",\"9341625d48\",\"368f5294cf\",\"9341625d48\",\"da82aa5175\",\"3aacc7c5c6\",\"a96e234eb5\",\"186eeb18d1\",\"47a9f62607\",\"2970ebebf5\",\"d2958e974b\",\"76a45f921d\",\"99aa2452c6\",\"0db91bc322\",\"02ffc20748\",\"79983ad57a\",\"f15972d17c\",\"8f83faa43a\",\"2aee1d5e50\",\"bd27ec3c7e\",\"461e8e1afe\",\"b095bfbe34\",\"5e7ae57daf\",\"f62672f751\",\"2970ebebf5\",\"f15972d17c\",\"64380dbbfa\",\"4f2ca6aa01\",\"676597d21a\",\"69ca262e9e\",\"d3c4b19edd\",\"0de45fdf82\",\"7ac4ef970c\",\"da82aa5175\",\"541c4b4514\",\"26050e609b\",\"fc1dfb29e0\",\"9f0905bb60\",\"8f83faa43a\",\"dbd873c881\",\"ece0ee6a30\",\"caaab2e967\",\"c03994ed8b\",\"7183d107f8\",\"0de45fdf82\",\"6b7b6ad4b4\",\"be7b348e17\",\"ede73c87a9\",\"8cb52943b3\",\"21fa212eb5\",\"4f9fb86ed5\",\"899fa9d7cc\",\"8872aa0bf2\",\"f8f47c92fe\",\"425f84a508\",\"8cb811caf3\",\"7f9c09cf94\",\"f62672f751\",\"676597d21a\",\"87eb938e35\",\"0a9707c869\",\"f7c4531c31\",\"3c2670a27c\",\"355821c021\",\"432ae0b88c\",\"371f819667\",\"7cb0b80357\",\"6b7b6ad4b4\",\"2970ebebf5\",\"7a6442c0a5\",\"7d874b8b84\",\"8f2052c08c\",\"ac1dfdae31\",\"3d3a9dfa4f\",\"8872aa0bf2\",\"3c2670a27c\",\"abdfc83cce\",\"9ede158507\",\"f8f47c92fe\",\"977450e789\",\"cd23bf6316\",\"e2cc4cb949\",\"c03994ed8b\",\"0de45fdf82\",\"a7c5e4cb90\",\"355821c021\",\"0f287371e4\",\"c5d4baa467\",\"0a9707c869\",\"c6190b17dc\",\"7edf929b6f\",\"0de45fdf82\",\"9f46c903c3\",\"a26f7f52a1\",\"8872aa0bf2\",\"ede73c87a9\",\"7edf929b6f\",\"7f9c09cf94\",\"3c2670a27c\",\"9f16cad200\",\"ac1dfdae31\",\"0c1a6405e1\",\"355821c021\",\"04792b379b\",\"8257e473fe\",\"899fa9d7cc\",\"051a1333c0\",\"7ac4ef970c\",\"371f819667\",\"76a12b649b\",\"ca9df0dd97\",\"8257e473fe\",\"36b24a602b\",\"0c4c9acdc1\",\"e7c3f31419\",\"0a9707c869\"],\"text_id2\":[\"b7eca0182b\",\"c326a6a0a5\",\"a0ef052323\",\"c02faa6925\",\"c02faa6925\",\"b0fe5d466d\",\"26fbf49007\",\"b0fe5d466d\",\"914bc53b5c\",\"2facf1d8c4\",\"c68dc3302f\",\"e3fc48c763\",\"78f5a14c7b\",\"c02faa6925\",\"e69856a0c6\",\"26fbf49007\",\"99aa2452c6\",\"961a1dc878\",\"c326a6a0a5\",\"f03eb4f187\",\"73cbd5f20c\",\"e3fc48c763\",\"3b2f90c27e\",\"e3fc48c763\",\"edb5329c56\",\"6b653425f5\",\"2494cd5102\",\"fd1ebf32df\",\"b3496c2b9d\",\"4dd80290be\",\"9fc29c1b6f\",\"591536f04d\",\"b3496c2b9d\",\"78f5a14c7b\",\"7676b404b6\",\"8fecc6efd0\",\"a06e8ddebc\",\"02ffc20748\",\"676597d21a\",\"42d17d4f42\",\"64c7679918\",\"80436a50d0\",\"edb5329c56\",\"87eb938e35\",\"e69c70f96e\",\"76a45f921d\",\"2d07d9799d\",\"3a5dda4ea9\",\"7df6bbf464\",\"64f27de094\",\"41adb27a25\",\"ff69773ada\",\"431a500f89\",\"87eb938e35\",\"ba341b4f35\",\"3a5dda4ea9\",\"53892a3121\",\"6a6db40aac\",\"42d17d4f42\",\"c7c566ac43\",\"1e8de0bed6\",\"a06e8ddebc\",\"53892a3121\",\"3c56d20931\",\"21cbff896d\",\"1e8de0bed6\",\"c1c0e6aad4\",\"acc49facef\",\"9afcb14344\",\"b095bfbe34\",\"521bb78adf\",\"dd9736b04b\",\"acc49facef\",\"84f151002a\",\"e78a7214b4\",\"0f287371e4\",\"f6ecafaed9\",\"be7b348e17\",\"901828c0b2\",\"a3add2bd07\",\"b6a02c58af\",\"b68accfa79\",\"519a9ae45a\",\"f3b2a04b74\",\"688bd353fc\",\"45c788ec6a\",\"5e7ae57daf\",\"048b4a5b53\",\"dadb615d6c\",\"84f151002a\",\"7df6bbf464\",\"432ae0b88c\",\"3dd03d211a\",\"154778d9b0\",\"0676271e0c\",\"d4c9a0b387\",\"5e7ae57daf\",\"aaac41d476\",\"f6ecafaed9\",\"ab9d44b2d8\",\"16c8c32612\",\"676597d21a\",\"b6a02c58af\",\"bb0ca627cd\",\"c1c0e6aad4\",\"e78a7214b4\",\"d3c4b19edd\",\"0f287371e4\",\"10a6e411a8\",\"ece0ee6a30\",\"fad059fd57\",\"69ca262e9e\",\"bb0ca627cd\",\"8e3a0ecc7e\",\"ca7cc07a93\",\"4f9fb86ed5\",\"f7c4531c31\",\"2ecd55590f\",\"c03994ed8b\",\"e78a7214b4\",\"fbe97608af\",\"3960ce35a6\",\"0c4c9acdc1\",\"bd27ec3c7e\",\"901828c0b2\",\"28c042842d\",\"c1c0e6aad4\",\"355821c021\",\"6e9956cc91\",\"a3e0c44a15\",\"a3e0c44a15\",\"e7c3f31419\",\"5e7ae57daf\",\"af4107906f\",\"2ecd55590f\",\"a3e0c44a15\",\"3f88375a80\",\"8ffd5fcc4a\",\"c1c0e6aad4\",\"10a6e411a8\",\"3d3a9dfa4f\",\"0793eab599\",\"f7c4531c31\",\"ec8419dc2d\",\"e78a7214b4\",\"27a1260f40\",\"dadb615d6c\",\"f7b24e7a58\",\"b095bfbe34\",\"7676b404b6\",\"6130cefa3b\",\"425f84a508\",\"688bd353fc\",\"a203b4c6d3\",\"899fa9d7cc\",\"f15972d17c\",\"ab9d44b2d8\",\"aaac41d476\",\"80436a50d0\",\"c03994ed8b\"],\"text_name1\":[\"G14N003\",\"V17NN010\",\"S16NN003\",\"V17NN021\",\"R17NN010\",\"R15NN007\",\"R17NN010\",\"D15NN013\",\"R15NN007\",\"S17NN003\",\"G15N005\",\"H17NN011\",\"D14NN008\",\"D17NN009\",\"D17NN009\",\"D17NN009\",\"C16N004\",\"H17NN011\",\"H17NN011\",\"G13NN002\",\"C17N002\",\"V17NN010\",\"S17N002\",\"D17NN005\",\"D15NN003\",\"G16N008\",\"V14NN008\",\"N16N007\",\"R13N005\",\"C16N006\",\"G15N001\",\"O17N006\",\"H13N013\",\"V14NN008\",\"D17N004\",\"R13N005\",\"G14N001\",\"R13N017\",\"O17N001\",\"R13N017\",\"H17N015\",\"V17N006\",\"R15NN001\",\"H16N003\",\"V13N010\",\"C16N001\",\"D15NN003\",\"C16N001\",\"H15N016\",\"N17N001\",\"H14N005\",\"N16N001\",\"R13N010\",\"D16N005\",\"V14N013\",\"S16N001\",\"S16N002\",\"G15N002\",\"V13N019\",\"H17NN006\",\"H14N002\",\"C14N001\",\"C16N004\",\"C16N009\",\"V14N015\",\"O14N001\",\"V16N022\",\"D17N002\",\"D16N005\",\"H14N002\",\"V15N011\",\"G14N002\",\"V17N002\",\"V16N027\",\"V16N021\",\"H16N007\",\"V14N007\",\"H15N016\",\"V17N001\",\"O14N009\",\"O17N001\",\"G13N003\",\"C14N001\",\"G15N003\",\"H17N014\",\"H13N008\",\"H16N011\",\"R13N007\",\"H16N007\",\"H16N013\",\"T15N004\",\"D13N008\",\"V16N004\",\"V13N016\",\"T13N003\",\"H17N010\",\"O16N007\",\"V15N007\",\"R14N008\",\"V17N005\",\"V14N014\",\"D17N002\",\"V17N002\",\"V16N010\",\"D16N011\",\"T16N003\",\"H16N010\",\"D16N009\",\"V13N022\",\"V17N014\",\"V14N003\",\"H16N013\",\"D16N005\",\"H15N012\",\"R13N006\",\"R13N011\",\"D16N010\",\"O14N003\",\"O16N007\",\"H16N010\",\"H13N006\",\"H13N021\",\"V15N007\",\"S16N008\",\"H17N001\",\"V16N003\",\"H16N011\",\"H16N007\",\"V14N001\",\"D16N009\",\"T16N002\",\"D17N003\",\"D16N011\",\"D16N012\",\"H14N011\",\"H16N007\",\"H15N015\",\"H17N007\",\"O16N007\",\"D13N008\",\"H14N011\",\"V14N014\",\"H16N010\",\"V13N020\",\"D16N010\",\"H15N014\",\"D16N009\",\"V15N006\",\"V14N002\",\"H17N010\",\"H15N001\",\"V14N007\",\"V17N014\",\"V17N022\",\"D17N004\",\"V14N002\",\"O17N006\",\"R15N005\",\"H17N004\",\"D16N011\"],\"text_name2\":[\"S14N004\",\"D17NN005\",\"G16NN003\",\"H17NN018\",\"H17NN018\",\"V15NN009\",\"V17NN021\",\"V15NN009\",\"D15NN013\",\"C17NN004\",\"S15N006\",\"R17NN007\",\"R14NN009\",\"H17NN018\",\"R17NN010\",\"V17NN021\",\"S16N002\",\"V17NN010\",\"D17NN005\",\"C13NN009\",\"G17N001\",\"R17NN007\",\"G17N002\",\"R17NN007\",\"V15NN003\",\"S16N009\",\"D14NN008\",\"U16N001\",\"V13N006\",\"S16N006\",\"S15N001\",\"R17N004\",\"V13N006\",\"R14NN009\",\"V17N009\",\"H13N013\",\"S14N001\",\"V13N019\",\"V17N002\",\"H13N016\",\"V17N019\",\"W17N009\",\"V15NN003\",\"V16N010\",\"R13N009\",\"S16N001\",\"R15NN001\",\"G16N001\",\"R15N015\",\"C17N005\",\"D14N005\",\"C16N002\",\"D13N003\",\"V16N010\",\"T14N002\",\"G16N001\",\"G16N002\",\"S15N002\",\"H13N016\",\"V17NN008\",\"D14N002\",\"S14N001\",\"G16N002\",\"G16N006\",\"H14N015\",\"D14N002\",\"R16N012\",\"R17N002\",\"H16N003\",\"O14N001\",\"R15N008\",\"S14N002\",\"R17N002\",\"W16N020\",\"R16N010\",\"T16N002\",\"H14N009\",\"T15N004\",\"R17N001\",\"H14N018\",\"H17N002\",\"S13N008\",\"G14N001\",\"S15N003\",\"O17N008\",\"D13N002\",\"V16N022\",\"H13N014\",\"V16NN019\",\"W16N020\",\"R15N015\",\"V13N022\",\"R16N003\",\"D13N006\",\"V13N015\",\"R17N006\",\"V16N022\",\"H15N008\",\"H14N009\",\"H17N003\",\"H14N014\",\"V17N002\",\"H17N002\",\"R16N006\",\"R16N012\",\"R16N010\",\"V16N021\",\"T16N002\",\"H13N017\",\"H17N014\",\"H14N003\",\"V16N027\",\"R16N006\",\"V15N015\",\"V13N007\",\"T13N003\",\"T16N003\",\"D14N009\",\"H16N011\",\"R16N010\",\"O13N002\",\"V13N025\",\"R15N005\",\"C16N009\",\"R17N001\",\"R16N002\",\"R16N012\",\"D16N009\",\"H14N001\",\"R16NN009\",\"R16NN009\",\"H17N004\",\"V16N022\",\"R16N014\",\"D14N009\",\"R16NN009\",\"D15N018\",\"R17N005\",\"R16N012\",\"H13N017\",\"O14N003\",\"R14N015\",\"T16N003\",\"O13N012\",\"R16N010\",\"R15N012\",\"V16NN019\",\"D15N007\",\"O14N001\",\"V17N009\",\"V15N001\",\"R14N008\",\"O17N008\",\"H17N019\",\"H17N010\",\"H14N002\",\"H17N003\",\"H15N008\",\"W17N009\",\"H16N011\"]},\"selected\":{\"id\":\"1060\"},\"selection_policy\":{\"id\":\"1059\"}},\"id\":\"1044\",\"type\":\"ColumnDataSource\"},{\"attributes\":{\"fill_alpha\":{\"value\":0.2},\"fill_color\":{\"field\":\"similarity\",\"transform\":{\"id\":\"1036\"}},\"hatch_alpha\":{\"value\":0.2},\"height\":{\"value\":1},\"line_alpha\":{\"value\":0.2},\"line_color\":{\"value\":\"#1f77b4\"},\"width\":{\"value\":1},\"x\":{\"field\":\"text_id1\"},\"y\":{\"field\":\"text_id2\"}},\"id\":\"1041\",\"type\":\"Rect\"},{\"attributes\":{\"bottom_units\":\"screen\",\"coordinates\":null,\"fill_alpha\":0.5,\"fill_color\":\"lightgrey\",\"group\":null,\"left_units\":\"screen\",\"level\":\"overlay\",\"line_alpha\":1.0,\"line_color\":\"black\",\"line_dash\":[4,4],\"line_width\":2,\"right_units\":\"screen\",\"syncable\":false,\"top_units\":\"screen\"},\"id\":\"1026\",\"type\":\"BoxAnnotation\"},{\"attributes\":{\"axis\":{\"id\":\"1014\"},\"coordinates\":null,\"group\":null,\"ticker\":null},\"id\":\"1016\",\"type\":\"Grid\"},{\"attributes\":{\"factors\":[\"899fa9d7cc\",\"c6190b17dc\",\"52cc570ba3\",\"26050e609b\",\"fc1dfb29e0\",\"68032ddced\",\"9afcb14344\",\"a26f7f52a1\",\"3c2670a27c\",\"9f16cad200\",\"f611923385\",\"519a9ae45a\",\"432ae0b88c\",\"04792b379b\",\"26fbf49007\",\"de088e8247\",\"ebf560b40e\",\"87ea017307\",\"2aee1d5e50\",\"9ede158507\",\"0c1a6405e1\",\"8cb811caf3\",\"f7c4531c31\",\"9341625d48\",\"f15972d17c\",\"2970ebebf5\",\"8f2052c08c\",\"8f83faa43a\",\"541c4b4514\",\"8257e473fe\",\"cd23bf6316\",\"9b97c9051e\",\"76a12b649b\",\"7d874b8b84\",\"7183d107f8\",\"8cb52943b3\",\"75fbd1aebf\",\"a96e234eb5\",\"9f46c903c3\",\"87eb938e35\",\"355821c021\",\"0f287371e4\",\"0a9707c869\",\"7a6442c0a5\",\"c5d4baa467\",\"368f5294cf\",\"1fc530e916\",\"0de45fdf82\",\"be7b348e17\",\"0c4c9acdc1\",\"ca9df0dd97\",\"92a88a6d82\",\"bd27ec3c7e\",\"7edf929b6f\",\"a1f176f44f\",\"186eeb18d1\",\"ece0ee6a30\",\"f8f47c92fe\",\"fe54f0b2f3\",\"caaab2e967\",\"47a9f62607\",\"c4dce1097b\",\"ac1dfdae31\",\"36b24a602b\",\"abdfc83cce\",\"d2958e974b\",\"7f9c09cf94\",\"b7a9771419\",\"64380dbbfa\",\"6b7b6ad4b4\",\"5e7ae57daf\",\"02ffc20748\",\"4f9fb86ed5\",\"b1b0d24228\",\"051a1333c0\",\"8872aa0bf2\",\"3aacc7c5c6\",\"914bc53b5c\",\"21fa212eb5\",\"3d3a9dfa4f\",\"a7c5e4cb90\",\"4f2ca6aa01\",\"7ac4ef970c\",\"dbd873c881\",\"2494cd5102\",\"7cb0b80357\",\"76a45f921d\",\"676597d21a\",\"f62672f751\",\"2d07d9799d\",\"da82aa5175\",\"b095bfbe34\",\"6f043de782\",\"30478f9ca9\",\"371f819667\",\"c03994ed8b\",\"961a1dc878\",\"69ca262e9e\",\"0db91bc322\",\"461e8e1afe\",\"e74ccadfce\",\"d3c4b19edd\",\"c696828e8c\",\"9f0905bb60\",\"79983ad57a\",\"0f3f5b7b20\",\"e7c3f31419\",\"977450e789\",\"425f84a508\",\"e2cc4cb949\",\"8fecc6efd0\",\"ede73c87a9\",\"99aa2452c6\",\"c326a6a0a5\",\"e69856a0c6\"]},\"id\":\"1006\",\"type\":\"FactorRange\"},{\"attributes\":{\"data\":{\"index\":[0,1,2,3,4,5,6,7,8,9,10,11,12,13,14,15,16,17,18,19,20,21,22,23,24,25,26,27,28,29,30,31,32,33,34,35,36,37,38,39,40,41,42,43,44,45,46,47,48,49,50,51,52,53,54,55,56,57,58,59,60,61,62,63,64,65,66,67,68,69,70,71,72,73,74,75,76,77,78,79,80,81,82,83,84,85,86,87,88,89,90,91,92,93,94,95,96,97,98,99,100,101,102,103,104,105,106,107,108,109,110,111,112,113,114,115,116,117,118,119,120,121,122,123,124,125,126,127,128,129,130,131,132,133,134,135,136,137,138,139,140,141,142,143,144,145,146,147,148,149,150,151,152,153,154,155,156,157,158,159],\"sim_str\":[\"1.0\",\"1.0\",\"1.0\",\"0.99\",\"0.99\",\"0.99\",\"0.99\",\"0.99\",\"0.99\",\"0.99\",\"0.98\",\"0.98\",\"0.97\",\"0.96\",\"0.96\",\"0.96\",\"0.96\",\"0.96\",\"0.96\",\"0.96\",\"0.96\",\"0.95\",\"0.95\",\"0.95\",\"0.93\",\"0.93\",\"0.9\",\"0.89\",\"0.89\",\"0.89\",\"0.89\",\"0.89\",\"0.88\",\"0.88\",\"0.88\",\"0.87\",\"0.87\",\"0.87\",\"0.86\",\"0.86\",\"0.86\",\"0.86\",\"0.85\",\"0.84\",\"0.84\",\"0.84\",\"0.83\",\"0.83\",\"0.83\",\"0.82\",\"0.82\",\"0.82\",\"0.81\",\"0.8\",\"0.8\",\"0.79\",\"0.79\",\"0.79\",\"0.79\",\"0.79\",\"0.78\",\"0.78\",\"0.77\",\"0.77\",\"0.77\",\"0.77\",\"0.77\",\"0.75\",\"0.75\",\"0.74\",\"0.74\",\"0.73\",\"0.73\",\"0.73\",\"0.73\",\"0.72\",\"0.72\",\"0.72\",\"0.72\",\"0.71\",\"0.71\",\"0.71\",\"0.7\",\"0.7\",\"0.7\",\"0.7\",\"0.7\",\"0.7\",\"0.69\",\"0.69\",\"0.68\",\"0.68\",\"0.68\",\"0.68\",\"0.67\",\"0.67\",\"0.67\",\"0.67\",\"0.67\",\"0.67\",\"0.67\",\"0.66\",\"0.66\",\"0.66\",\"0.66\",\"0.65\",\"0.65\",\"0.65\",\"0.64\",\"0.64\",\"0.64\",\"0.64\",\"0.64\",\"0.64\",\"0.63\",\"0.62\",\"0.62\",\"0.62\",\"0.62\",\"0.61\",\"0.61\",\"0.61\",\"0.61\",\"0.61\",\"0.61\",\"0.6\",\"0.6\",\"0.6\",\"0.6\",\"0.6\",\"0.6\",\"0.59\",\"0.59\",\"0.59\",\"0.58\",\"0.57\",\"0.57\",\"0.57\",\"0.57\",\"0.56\",\"0.56\",\"0.55\",\"0.55\",\"0.54\",\"0.54\",\"0.54\",\"0.54\",\"0.54\",\"0.54\",\"0.54\",\"0.53\",\"0.53\",\"0.53\",\"0.52\",\"0.52\",\"0.52\",\"0.51\",\"0.51\",\"0.5\",\"0.5\"],\"similarity\":{\"__ndarray__\":\"jnVxGw3g7z+OdXEbDeDvP451cRsN4O8/HOviNhrA7z8c6+I2GsDvPxzr4jYawO8/HOviNhrA7z+qYFRSJ6DvP6pgVFInoO8/qmBUUieg7z9VwaikTkDvP1XBqKROQO8/cayL22gA7z8dyeU/pN/uPx3J5T+k3+4/HcnlP6Tf7j8dyeU/pN/uPx3J5T+k3+4/qz5XW7G/7j85tMh2vp/uPzm0yHa+n+4/Vp+rrdhf7j9Wn6ut2F/uP+QUHcnlP+4/jnVxGw3g7T+qYFRSJ6DtPx3J5T+k3+w/ObTIdr6f7D85tMh2vp/sP8cpOpLLf+w/xyk6kst/7D/HKTqSy3/sP3KKjuTyH+w/coqO5PIf7D9yio7k8h/sP451cRsN4Os/HOviNhrA6z8c6+I2GsDrP6pgVFInoOs/x0s3iUFg6z/HSzeJQWDrP8dLN4lBYOs/VcGopE5A6z9xrIvbaADrPx3J5T+k3+o/qz5XW7G/6j85tMh2vp/qP8cpOpLLf+o/xyk6kst/6j/kFB3J5T/qP3KKjuTyH+o/coqO5PIf6j8AAAAAAADqPxzr4jYawOk/OdbFbTSA6T9VwaikTkDpP1XBqKROQOk/VcGopE5A6T/jNhrAWyDpP+M2GsBbIOk/j1N0JJf/6D+PU3Qkl//oP6s+V1uxv+g/qz5XW7G/6D85tMh2vp/oP8cpOpLLf+g/xyk6kst/6D9yio7k8h/oPwAAAAAAAOg/HOviNhrA5z+qYFRSJ6DnPznWxW00gOc/OdbFbTSA5z/HSzeJQWDnP8dLN4lBYOc/4zYawFsg5z/jNhrAWyDnP+M2GsBbIOc/cayL22gA5z8dyeU/pN/mPzm0yHa+n+Y/ObTIdr6f5j/HKTqSy3/mP1afq63YX+Y/Vp+rrdhf5j9Wn6ut2F/mP1afq63YX+Y/5BQdyeU/5j9yio7k8h/mPwAAAAAAAOY/HOviNhrA5T8c6+I2GsDlP6pgVFInoOU/qmBUUieg5T851sVtNIDlPznWxW00gOU/OdbFbTSA5T851sVtNIDlPznWxW00gOU/x0s3iUFg5T/HSzeJQWDlP+M2GsBbIOU/j1N0JJf/5D+PU3Qkl//kP49TdCSX/+Q/qz5XW7G/5D+rPldbsb/kP6s+V1uxv+Q/xyk6kst/5D/HKTqSy3/kP1afq63YX+Q/Vp+rrdhf5D9Wn6ut2F/kP1afq63YX+Q/5BQdyeU/5D8AAAAAAADkPwAAAAAAAOQ/jnVxGw3g4z8c6+I2GsDjP6pgVFInoOM/qmBUUieg4z+qYFRSJ6DjP8dLN4lBYOM/x0s3iUFg4z/HSzeJQWDjP+M2GsBbIOM/4zYawFsg4z/jNhrAWyDjP+M2GsBbIOM/4zYawFsg4z/jNhrAWyDjP3Gsi9toAOM/HcnlP6Tf4j8dyeU/pN/iPzm0yHa+n+I/Vp+rrdhf4j9Wn6ut2F/iP1afq63YX+I/coqO5PIf4j8AAAAAAADiPwAAAAAAAOI/HOviNhrA4T+qYFRSJ6DhP8dLN4lBYOE/x0s3iUFg4T/HSzeJQWDhP8dLN4lBYOE/VcGopE5A4T/jNhrAWyDhP+M2GsBbIOE/j1N0JJf/4D+PU3Qkl//gPx3J5T+k3+A/qz5XW7G/4D85tMh2vp/gP8cpOpLLf+A/Vp+rrdhf4D9Wn6ut2F/gP3KKjuTyH+A/coqO5PIf4D8=\",\"dtype\":\"float64\",\"order\":\"little\",\"shape\":[160]},\"text_id1\":[\"68032ddced\",\"961a1dc878\",\"30478f9ca9\",\"26fbf49007\",\"e69856a0c6\",\"c4dce1097b\",\"e69856a0c6\",\"914bc53b5c\",\"c4dce1097b\",\"b7a9771419\",\"a1f176f44f\",\"c696828e8c\",\"2494cd5102\",\"f611923385\",\"f611923385\",\"f611923385\",\"2aee1d5e50\",\"c696828e8c\",\"c696828e8c\",\"52cc570ba3\",\"87ea017307\",\"961a1dc878\",\"6f043de782\",\"c326a6a0a5\",\"368f5294cf\",\"92a88a6d82\",\"0f3f5b7b20\",\"de088e8247\",\"fe54f0b2f3\",\"75fbd1aebf\",\"b1b0d24228\",\"36b24a602b\",\"8fecc6efd0\",\"0f3f5b7b20\",\"ca9df0dd97\",\"fe54f0b2f3\",\"519a9ae45a\",\"9b97c9051e\",\"fc1dfb29e0\",\"9b97c9051e\",\"ebf560b40e\",\"1fc530e916\",\"2d07d9799d\",\"9afcb14344\",\"e74ccadfce\",\"9341625d48\",\"368f5294cf\",\"9341625d48\",\"da82aa5175\",\"3aacc7c5c6\",\"a96e234eb5\",\"186eeb18d1\",\"47a9f62607\",\"2970ebebf5\",\"d2958e974b\",\"76a45f921d\",\"99aa2452c6\",\"0db91bc322\",\"02ffc20748\",\"79983ad57a\",\"f15972d17c\",\"8f83faa43a\",\"2aee1d5e50\",\"bd27ec3c7e\",\"461e8e1afe\",\"b095bfbe34\",\"5e7ae57daf\",\"f62672f751\",\"2970ebebf5\",\"f15972d17c\",\"64380dbbfa\",\"4f2ca6aa01\",\"676597d21a\",\"69ca262e9e\",\"d3c4b19edd\",\"0de45fdf82\",\"7ac4ef970c\",\"da82aa5175\",\"541c4b4514\",\"26050e609b\",\"fc1dfb29e0\",\"9f0905bb60\",\"8f83faa43a\",\"dbd873c881\",\"ece0ee6a30\",\"caaab2e967\",\"c03994ed8b\",\"7183d107f8\",\"0de45fdf82\",\"6b7b6ad4b4\",\"be7b348e17\",\"ede73c87a9\",\"8cb52943b3\",\"21fa212eb5\",\"4f9fb86ed5\",\"899fa9d7cc\",\"8872aa0bf2\",\"f8f47c92fe\",\"425f84a508\",\"8cb811caf3\",\"7f9c09cf94\",\"f62672f751\",\"676597d21a\",\"87eb938e35\",\"0a9707c869\",\"f7c4531c31\",\"3c2670a27c\",\"355821c021\",\"432ae0b88c\",\"371f819667\",\"7cb0b80357\",\"6b7b6ad4b4\",\"2970ebebf5\",\"7a6442c0a5\",\"7d874b8b84\",\"8f2052c08c\",\"ac1dfdae31\",\"3d3a9dfa4f\",\"8872aa0bf2\",\"3c2670a27c\",\"abdfc83cce\",\"9ede158507\",\"f8f47c92fe\",\"977450e789\",\"cd23bf6316\",\"e2cc4cb949\",\"c03994ed8b\",\"0de45fdf82\",\"a7c5e4cb90\",\"355821c021\",\"0f287371e4\",\"c5d4baa467\",\"0a9707c869\",\"c6190b17dc\",\"7edf929b6f\",\"0de45fdf82\",\"9f46c903c3\",\"a26f7f52a1\",\"8872aa0bf2\",\"ede73c87a9\",\"7edf929b6f\",\"7f9c09cf94\",\"3c2670a27c\",\"9f16cad200\",\"ac1dfdae31\",\"0c1a6405e1\",\"355821c021\",\"04792b379b\",\"8257e473fe\",\"899fa9d7cc\",\"051a1333c0\",\"7ac4ef970c\",\"371f819667\",\"76a12b649b\",\"ca9df0dd97\",\"8257e473fe\",\"36b24a602b\",\"0c4c9acdc1\",\"e7c3f31419\",\"0a9707c869\"],\"text_id2\":[\"b7eca0182b\",\"c326a6a0a5\",\"a0ef052323\",\"c02faa6925\",\"c02faa6925\",\"b0fe5d466d\",\"26fbf49007\",\"b0fe5d466d\",\"914bc53b5c\",\"2facf1d8c4\",\"c68dc3302f\",\"e3fc48c763\",\"78f5a14c7b\",\"c02faa6925\",\"e69856a0c6\",\"26fbf49007\",\"99aa2452c6\",\"961a1dc878\",\"c326a6a0a5\",\"f03eb4f187\",\"73cbd5f20c\",\"e3fc48c763\",\"3b2f90c27e\",\"e3fc48c763\",\"edb5329c56\",\"6b653425f5\",\"2494cd5102\",\"fd1ebf32df\",\"b3496c2b9d\",\"4dd80290be\",\"9fc29c1b6f\",\"591536f04d\",\"b3496c2b9d\",\"78f5a14c7b\",\"7676b404b6\",\"8fecc6efd0\",\"a06e8ddebc\",\"02ffc20748\",\"676597d21a\",\"42d17d4f42\",\"64c7679918\",\"80436a50d0\",\"edb5329c56\",\"87eb938e35\",\"e69c70f96e\",\"76a45f921d\",\"2d07d9799d\",\"3a5dda4ea9\",\"7df6bbf464\",\"64f27de094\",\"41adb27a25\",\"ff69773ada\",\"431a500f89\",\"87eb938e35\",\"ba341b4f35\",\"3a5dda4ea9\",\"53892a3121\",\"6a6db40aac\",\"42d17d4f42\",\"c7c566ac43\",\"1e8de0bed6\",\"a06e8ddebc\",\"53892a3121\",\"3c56d20931\",\"21cbff896d\",\"1e8de0bed6\",\"c1c0e6aad4\",\"acc49facef\",\"9afcb14344\",\"b095bfbe34\",\"521bb78adf\",\"dd9736b04b\",\"acc49facef\",\"84f151002a\",\"e78a7214b4\",\"0f287371e4\",\"f6ecafaed9\",\"be7b348e17\",\"901828c0b2\",\"a3add2bd07\",\"b6a02c58af\",\"b68accfa79\",\"519a9ae45a\",\"f3b2a04b74\",\"688bd353fc\",\"45c788ec6a\",\"5e7ae57daf\",\"048b4a5b53\",\"dadb615d6c\",\"84f151002a\",\"7df6bbf464\",\"432ae0b88c\",\"3dd03d211a\",\"154778d9b0\",\"0676271e0c\",\"d4c9a0b387\",\"5e7ae57daf\",\"aaac41d476\",\"f6ecafaed9\",\"ab9d44b2d8\",\"16c8c32612\",\"676597d21a\",\"b6a02c58af\",\"bb0ca627cd\",\"c1c0e6aad4\",\"e78a7214b4\",\"d3c4b19edd\",\"0f287371e4\",\"10a6e411a8\",\"ece0ee6a30\",\"fad059fd57\",\"69ca262e9e\",\"bb0ca627cd\",\"8e3a0ecc7e\",\"ca7cc07a93\",\"4f9fb86ed5\",\"f7c4531c31\",\"2ecd55590f\",\"c03994ed8b\",\"e78a7214b4\",\"fbe97608af\",\"3960ce35a6\",\"0c4c9acdc1\",\"bd27ec3c7e\",\"901828c0b2\",\"28c042842d\",\"c1c0e6aad4\",\"355821c021\",\"6e9956cc91\",\"a3e0c44a15\",\"a3e0c44a15\",\"e7c3f31419\",\"5e7ae57daf\",\"af4107906f\",\"2ecd55590f\",\"a3e0c44a15\",\"3f88375a80\",\"8ffd5fcc4a\",\"c1c0e6aad4\",\"10a6e411a8\",\"3d3a9dfa4f\",\"0793eab599\",\"f7c4531c31\",\"ec8419dc2d\",\"e78a7214b4\",\"27a1260f40\",\"dadb615d6c\",\"f7b24e7a58\",\"b095bfbe34\",\"7676b404b6\",\"6130cefa3b\",\"425f84a508\",\"688bd353fc\",\"a203b4c6d3\",\"899fa9d7cc\",\"f15972d17c\",\"ab9d44b2d8\",\"aaac41d476\",\"80436a50d0\",\"c03994ed8b\"],\"text_name1\":[\"G14N003\",\"V17NN010\",\"S16NN003\",\"V17NN021\",\"R17NN010\",\"R15NN007\",\"R17NN010\",\"D15NN013\",\"R15NN007\",\"S17NN003\",\"G15N005\",\"H17NN011\",\"D14NN008\",\"D17NN009\",\"D17NN009\",\"D17NN009\",\"C16N004\",\"H17NN011\",\"H17NN011\",\"G13NN002\",\"C17N002\",\"V17NN010\",\"S17N002\",\"D17NN005\",\"D15NN003\",\"G16N008\",\"V14NN008\",\"N16N007\",\"R13N005\",\"C16N006\",\"G15N001\",\"O17N006\",\"H13N013\",\"V14NN008\",\"D17N004\",\"R13N005\",\"G14N001\",\"R13N017\",\"O17N001\",\"R13N017\",\"H17N015\",\"V17N006\",\"R15NN001\",\"H16N003\",\"V13N010\",\"C16N001\",\"D15NN003\",\"C16N001\",\"H15N016\",\"N17N001\",\"H14N005\",\"N16N001\",\"R13N010\",\"D16N005\",\"V14N013\",\"S16N001\",\"S16N002\",\"G15N002\",\"V13N019\",\"H17NN006\",\"H14N002\",\"C14N001\",\"C16N004\",\"C16N009\",\"V14N015\",\"O14N001\",\"V16N022\",\"D17N002\",\"D16N005\",\"H14N002\",\"V15N011\",\"G14N002\",\"V17N002\",\"V16N027\",\"V16N021\",\"H16N007\",\"V14N007\",\"H15N016\",\"V17N001\",\"O14N009\",\"O17N001\",\"G13N003\",\"C14N001\",\"G15N003\",\"H17N014\",\"H13N008\",\"H16N011\",\"R13N007\",\"H16N007\",\"H16N013\",\"T15N004\",\"D13N008\",\"V16N004\",\"V13N016\",\"T13N003\",\"H17N010\",\"O16N007\",\"V15N007\",\"R14N008\",\"V17N005\",\"V14N014\",\"D17N002\",\"V17N002\",\"V16N010\",\"D16N011\",\"T16N003\",\"H16N010\",\"D16N009\",\"V13N022\",\"V17N014\",\"V14N003\",\"H16N013\",\"D16N005\",\"H15N012\",\"R13N006\",\"R13N011\",\"D16N010\",\"O14N003\",\"O16N007\",\"H16N010\",\"H13N006\",\"H13N021\",\"V15N007\",\"S16N008\",\"H17N001\",\"V16N003\",\"H16N011\",\"H16N007\",\"V14N001\",\"D16N009\",\"T16N002\",\"D17N003\",\"D16N011\",\"D16N012\",\"H14N011\",\"H16N007\",\"H15N015\",\"H17N007\",\"O16N007\",\"D13N008\",\"H14N011\",\"V14N014\",\"H16N010\",\"V13N020\",\"D16N010\",\"H15N014\",\"D16N009\",\"V15N006\",\"V14N002\",\"H17N010\",\"H15N001\",\"V14N007\",\"V17N014\",\"V17N022\",\"D17N004\",\"V14N002\",\"O17N006\",\"R15N005\",\"H17N004\",\"D16N011\"],\"text_name2\":[\"S14N004\",\"D17NN005\",\"G16NN003\",\"H17NN018\",\"H17NN018\",\"V15NN009\",\"V17NN021\",\"V15NN009\",\"D15NN013\",\"C17NN004\",\"S15N006\",\"R17NN007\",\"R14NN009\",\"H17NN018\",\"R17NN010\",\"V17NN021\",\"S16N002\",\"V17NN010\",\"D17NN005\",\"C13NN009\",\"G17N001\",\"R17NN007\",\"G17N002\",\"R17NN007\",\"V15NN003\",\"S16N009\",\"D14NN008\",\"U16N001\",\"V13N006\",\"S16N006\",\"S15N001\",\"R17N004\",\"V13N006\",\"R14NN009\",\"V17N009\",\"H13N013\",\"S14N001\",\"V13N019\",\"V17N002\",\"H13N016\",\"V17N019\",\"W17N009\",\"V15NN003\",\"V16N010\",\"R13N009\",\"S16N001\",\"R15NN001\",\"G16N001\",\"R15N015\",\"C17N005\",\"D14N005\",\"C16N002\",\"D13N003\",\"V16N010\",\"T14N002\",\"G16N001\",\"G16N002\",\"S15N002\",\"H13N016\",\"V17NN008\",\"D14N002\",\"S14N001\",\"G16N002\",\"G16N006\",\"H14N015\",\"D14N002\",\"R16N012\",\"R17N002\",\"H16N003\",\"O14N001\",\"R15N008\",\"S14N002\",\"R17N002\",\"W16N020\",\"R16N010\",\"T16N002\",\"H14N009\",\"T15N004\",\"R17N001\",\"H14N018\",\"H17N002\",\"S13N008\",\"G14N001\",\"S15N003\",\"O17N008\",\"D13N002\",\"V16N022\",\"H13N014\",\"V16NN019\",\"W16N020\",\"R15N015\",\"V13N022\",\"R16N003\",\"D13N006\",\"V13N015\",\"R17N006\",\"V16N022\",\"H15N008\",\"H14N009\",\"H17N003\",\"H14N014\",\"V17N002\",\"H17N002\",\"R16N006\",\"R16N012\",\"R16N010\",\"V16N021\",\"T16N002\",\"H13N017\",\"H17N014\",\"H14N003\",\"V16N027\",\"R16N006\",\"V15N015\",\"V13N007\",\"T13N003\",\"T16N003\",\"D14N009\",\"H16N011\",\"R16N010\",\"O13N002\",\"V13N025\",\"R15N005\",\"C16N009\",\"R17N001\",\"R16N002\",\"R16N012\",\"D16N009\",\"H14N001\",\"R16NN009\",\"R16NN009\",\"H17N004\",\"V16N022\",\"R16N014\",\"D14N009\",\"R16NN009\",\"D15N018\",\"R17N005\",\"R16N012\",\"H13N017\",\"O14N003\",\"R14N015\",\"T16N003\",\"O13N012\",\"R16N010\",\"R15N012\",\"V16NN019\",\"D15N007\",\"O14N001\",\"V17N009\",\"V15N001\",\"R14N008\",\"O17N008\",\"H17N019\",\"H17N010\",\"H14N002\",\"H17N003\",\"H15N008\",\"W17N009\",\"H16N011\"]},\"selected\":{\"id\":\"1057\"},\"selection_policy\":{\"id\":\"1056\"}},\"id\":\"1037\",\"type\":\"ColumnDataSource\"},{\"attributes\":{},\"id\":\"1055\",\"type\":\"AllLabels\"}],\"root_ids\":[\"1003\"]},\"title\":\"Bokeh Application\",\"version\":\"2.4.3\"}};\n",
       "  const render_items = [{\"docid\":\"953ee255-cded-44f3-9414-1f53f5a1cbf0\",\"root_ids\":[\"1003\"],\"roots\":{\"1003\":\"2e78d91c-e3e8-44cf-aa96-3833688df103\"}}];\n",
       "  root.Bokeh.embed.embed_items_notebook(docs_json, render_items);\n",
       "  }\n",
       "  if (root.Bokeh !== undefined) {\n",
       "    embed_document(root);\n",
       "  } else {\n",
       "    let attempts = 0;\n",
       "    const timer = setInterval(function(root) {\n",
       "      if (root.Bokeh !== undefined) {\n",
       "        clearInterval(timer);\n",
       "        embed_document(root);\n",
       "      } else {\n",
       "        attempts++;\n",
       "        if (attempts > 100) {\n",
       "          clearInterval(timer);\n",
       "          console.log(\"Bokeh: ERROR: Unable to run BokehJS code because BokehJS library is missing\");\n",
       "        }\n",
       "      }\n",
       "    }, 10, root)\n",
       "  }\n",
       "})(window);"
      ],
      "application/vnd.bokehjs_exec.v0+json": ""
     },
     "metadata": {
      "application/vnd.bokehjs_exec.v0+json": {
       "id": "1003"
      }
     },
     "output_type": "display_data"
    }
   ],
   "source": [
    "# define the plot width, height, font size and color\n",
    "plot_width = 900 # increase plot width if necessary\n",
    "plot_height = 800 # increase plot height if necessary\n",
    "font_size = '14px'\n",
    "text_color = 'white' # 'black' or 'white' would usually work for most scenarios\n",
    "\n",
    "print('\\033[1mVisualizing a large number of similar document pairs (>500) may slow down the notebook.\\033[0m')\n",
    "print('There are \\033[1m{}\\033[0m document pairs in the current process'.format(ds.deduplication_df.shape[0]))\n",
    "plot_heatmap_size = input(\"Enter a number to proceed with the first N pairs, 'y + Enter' to proceed full and 'n + Enter' to cancel:\")\n",
    "\n",
    "if plot_heatmap_size.lower()!='n':\n",
    "    if plot_heatmap_size.isnumeric():\n",
    "        size = int(plot_heatmap_size)\n",
    "    if plot_heatmap_size.lower()=='y':\n",
    "        size = sys.maxsize\n",
    "\n",
    "    # plot heatmap of Jaccard similarity\n",
    "    ds.plot_heatmap_similarity(similarity_cutoff,\n",
    "                                    plot_width,\n",
    "                                    plot_height,\n",
    "                                    font_size,\n",
    "                                    text_color,\n",
    "                                    size)"
   ]
  },
  {
   "cell_type": "markdown",
   "id": "4738a90d",
   "metadata": {},
   "source": [
    "<div class=\"alert alert-block alert-warning\">\n",
    "<b>Analyse similar documents</b> \n",
    "\n",
    "Below you can generate a list of similar documents (in pairs) found by the tool, based on the similarity cutoff specified earlier. By default, the tool makes recommendations on whether to 'keep' or 'remove' each similar document (the tool will recommend to remove the document with the lower word count, if the Jaccard similarity is above the specified threshold). However, using the below tool, you can generate each pair of similar documents (by specifying the row index you wish to analyse), analyse them, and update the action/recommendation as you see fit.\n",
    "</div>\n",
    "\n",
    "<div class=\"alert alert-block alert-danger\">\n",
    "<b>Similar documents table</b> \n",
    "\n",
    "The table below displays only those texts identified as similar based on the Jaccard similarity cut-off selected earlier and the number of texts included in the table display therefore also informs you how many texts in your corpus are identified as within the cut-off threshold.\n",
    "</div>"
   ]
  },
  {
   "cell_type": "code",
   "execution_count": 5,
   "id": "9a950215",
   "metadata": {},
   "outputs": [
    {
     "data": {
      "application/vnd.jupyter.widget-view+json": {
       "model_id": "11e6c369fd7f4ceda27ab9f1ce9b7609",
       "version_major": 2,
       "version_minor": 0
      },
      "text/plain": [
       "VBox(children=(Output(), HBox(children=(HBox(children=(HTML(value='<b>Select row index:</b>', placeholder=''),…"
      ]
     },
     "execution_count": 5,
     "metadata": {},
     "output_type": "execute_result"
    }
   ],
   "source": [
    "ds.display_deduplication_text()"
   ]
  },
  {
   "cell_type": "markdown",
   "id": "7b5a76fa",
   "metadata": {},
   "source": [
    "<div class=\"alert alert-block alert-warning\">\n",
    "<b>What information is included in the above table?</b> \n",
    "\n",
    "**text_id1/2:** the text id of the pair of similar documents.\n",
    "    \n",
    "**text_name1/2:** the text name of the pair of similar documents.\n",
    "   \n",
    "**word_count1/2:** the word count of the pair of similar documents.\n",
    "\n",
    "**status1/2:** whether to 'keep' or 'remove' each similar document.\n",
    "\n",
    "**similarity:** the Jaccard similarity between the pair of similar documents.\n",
    "</div>"
   ]
  },
  {
   "cell_type": "markdown",
   "id": "effbb68b",
   "metadata": {},
   "source": [
    "## 5. Save duplicated/non-duplicated texts\n",
    "Once you are happy with the list of texts that you want to keep, you can run the below code to save the non-duplicated texts (those with 'keep' status) or the duplicated ones (those with 'remove' status) into a zip of text (.txt) files and download them to your local computer."
   ]
  },
  {
   "cell_type": "code",
   "execution_count": null,
   "id": "018ecab2",
   "metadata": {},
   "outputs": [],
   "source": [
    "n=5\n",
    "\n",
    "ds.finalise_and_save(n)"
   ]
  }
 ],
 "metadata": {
  "kernelspec": {
   "display_name": "Python 3 (ipykernel)",
   "language": "python",
   "name": "python3"
  },
  "language_info": {
   "codemirror_mode": {
    "name": "ipython",
    "version": 3
   },
   "file_extension": ".py",
   "mimetype": "text/x-python",
   "name": "python",
   "nbconvert_exporter": "python",
   "pygments_lexer": "ipython3",
   "version": "3.10.10"
  }
 },
 "nbformat": 4,
 "nbformat_minor": 5
}
